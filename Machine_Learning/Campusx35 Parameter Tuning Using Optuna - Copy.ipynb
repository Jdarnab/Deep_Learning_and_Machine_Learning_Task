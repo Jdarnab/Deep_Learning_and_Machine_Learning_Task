{
 "cells": [
  {
   "cell_type": "code",
   "execution_count": 3,
   "id": "db967e22-88d6-48e2-9c09-4cf8feefbd43",
   "metadata": {},
   "outputs": [
    {
     "data": {
      "text/html": [
       "<div>\n",
       "<style scoped>\n",
       "    .dataframe tbody tr th:only-of-type {\n",
       "        vertical-align: middle;\n",
       "    }\n",
       "\n",
       "    .dataframe tbody tr th {\n",
       "        vertical-align: top;\n",
       "    }\n",
       "\n",
       "    .dataframe thead th {\n",
       "        text-align: right;\n",
       "    }\n",
       "</style>\n",
       "<table border=\"1\" class=\"dataframe\">\n",
       "  <thead>\n",
       "    <tr style=\"text-align: right;\">\n",
       "      <th></th>\n",
       "      <th>Pregnancies</th>\n",
       "      <th>Glucose</th>\n",
       "      <th>BloodPressure</th>\n",
       "      <th>SkinThickness</th>\n",
       "      <th>Insulin</th>\n",
       "      <th>BMI</th>\n",
       "      <th>DiabetesPedigreeFunction</th>\n",
       "      <th>Age</th>\n",
       "      <th>Outcome</th>\n",
       "    </tr>\n",
       "  </thead>\n",
       "  <tbody>\n",
       "    <tr>\n",
       "      <th>0</th>\n",
       "      <td>6</td>\n",
       "      <td>148</td>\n",
       "      <td>72</td>\n",
       "      <td>35</td>\n",
       "      <td>0</td>\n",
       "      <td>33.6</td>\n",
       "      <td>0.627</td>\n",
       "      <td>50</td>\n",
       "      <td>1</td>\n",
       "    </tr>\n",
       "  </tbody>\n",
       "</table>\n",
       "</div>"
      ],
      "text/plain": [
       "   Pregnancies  Glucose  BloodPressure  SkinThickness  Insulin   BMI  \\\n",
       "0            6      148             72             35        0  33.6   \n",
       "\n",
       "   DiabetesPedigreeFunction  Age  Outcome  \n",
       "0                     0.627   50        1  "
      ]
     },
     "execution_count": 3,
     "metadata": {},
     "output_type": "execute_result"
    }
   ],
   "source": [
    "# Import necessary libraries\n",
    "import optuna\n",
    "from sklearn.model_selection import train_test_split\n",
    "from sklearn.preprocessing import StandardScaler\n",
    "\n",
    "# Load the Pima Indian Diabetes dataset from sklearn\n",
    "# Note: Scikit-learn's built-in 'load_diabetes' is a regression dataset.\n",
    "# We will load the actual diabetes dataset from an external source\n",
    "import pandas as pd\n",
    "\n",
    "# Load the Pima Indian Diabetes dataset (from UCI repository)\n",
    "url = \"https://raw.githubusercontent.com/jbrownlee/Datasets/master/pima-indians-diabetes.data.csv\"\n",
    "columns = ['Pregnancies', 'Glucose', 'BloodPressure', 'SkinThickness', 'Insulin', 'BMI',\n",
    "           'DiabetesPedigreeFunction', 'Age', 'Outcome']\n",
    "\n",
    "# Load the dataset\n",
    "df = pd.read_csv(url, names=columns)\n",
    "\n",
    "df.head(1)"
   ]
  },
  {
   "cell_type": "code",
   "execution_count": 13,
   "id": "7392893e-bebc-4dae-a86d-f22ada794124",
   "metadata": {},
   "outputs": [
    {
     "data": {
      "text/html": [
       "<div>\n",
       "<style scoped>\n",
       "    .dataframe tbody tr th:only-of-type {\n",
       "        vertical-align: middle;\n",
       "    }\n",
       "\n",
       "    .dataframe tbody tr th {\n",
       "        vertical-align: top;\n",
       "    }\n",
       "\n",
       "    .dataframe thead th {\n",
       "        text-align: right;\n",
       "    }\n",
       "</style>\n",
       "<table border=\"1\" class=\"dataframe\">\n",
       "  <thead>\n",
       "    <tr style=\"text-align: right;\">\n",
       "      <th></th>\n",
       "      <th>Pregnancies</th>\n",
       "      <th>Glucose</th>\n",
       "      <th>BloodPressure</th>\n",
       "      <th>SkinThickness</th>\n",
       "      <th>Insulin</th>\n",
       "      <th>BMI</th>\n",
       "      <th>DiabetesPedigreeFunction</th>\n",
       "      <th>Age</th>\n",
       "      <th>Outcome</th>\n",
       "    </tr>\n",
       "  </thead>\n",
       "  <tbody>\n",
       "  </tbody>\n",
       "</table>\n",
       "</div>"
      ],
      "text/plain": [
       "Empty DataFrame\n",
       "Columns: [Pregnancies, Glucose, BloodPressure, SkinThickness, Insulin, BMI, DiabetesPedigreeFunction, Age, Outcome]\n",
       "Index: []"
      ]
     },
     "execution_count": 13,
     "metadata": {},
     "output_type": "execute_result"
    }
   ],
   "source": [
    "df[df['Age'] == 0]"
   ]
  },
  {
   "cell_type": "code",
   "execution_count": 14,
   "id": "5f2c406c-1283-49b6-b427-5c2181d040c5",
   "metadata": {},
   "outputs": [
    {
     "name": "stdout",
     "output_type": "stream",
     "text": [
      "Pregnancies                 0\n",
      "Glucose                     0\n",
      "BloodPressure               0\n",
      "SkinThickness               0\n",
      "Insulin                     0\n",
      "BMI                         0\n",
      "DiabetesPedigreeFunction    0\n",
      "Age                         0\n",
      "Outcome                     0\n",
      "dtype: int64\n"
     ]
    }
   ],
   "source": [
    "import numpy as np\n",
    "\n",
    "# Replace zero values with NaN in columns where zero is not a valid value\n",
    "cols_with_missing_vals = ['Glucose', 'BloodPressure', 'SkinThickness', 'Insulin', 'BMI']\n",
    "df[cols_with_missing_vals] = df[cols_with_missing_vals].replace(0, np.nan)\n",
    "\n",
    "# Impute the missing values with the mean of the respective column\n",
    "df.fillna(df.mean(), inplace=True)\n",
    "\n",
    "# Check if there are any remaining missing values\n",
    "print(df.isnull().sum())\n"
   ]
  },
  {
   "cell_type": "code",
   "execution_count": 15,
   "id": "7c7ac45f-6292-4833-93d7-50af61897cb1",
   "metadata": {},
   "outputs": [
    {
     "name": "stdout",
     "output_type": "stream",
     "text": [
      "Training set shape: (537, 8)\n",
      "Test set shape: (231, 8)\n"
     ]
    }
   ],
   "source": [
    "# Split into features (X) and target (y)\n",
    "X = df.drop('Outcome', axis=1)\n",
    "y = df['Outcome']\n",
    "\n",
    "# Split data into training and test sets (70% train, 30% test)\n",
    "X_train, X_test, y_train, y_test = train_test_split(X, y, test_size=0.3, random_state=42)\n",
    "\n",
    "# Optional: Scale the data for better model performance\n",
    "scaler = StandardScaler()\n",
    "X_train = scaler.fit_transform(X_train)\n",
    "X_test = scaler.transform(X_test)\n",
    "\n",
    "# Check the shape of the data\n",
    "print(f'Training set shape: {X_train.shape}')\n",
    "print(f'Test set shape: {X_test.shape}')"
   ]
  },
  {
   "cell_type": "code",
   "execution_count": 16,
   "id": "1330274c-dd89-4165-a188-a2aaae0f1c4c",
   "metadata": {},
   "outputs": [],
   "source": [
    "from sklearn.ensemble import RandomForestClassifier\n",
    "from sklearn.model_selection import cross_val_score\n",
    "\n",
    "# Define the objective function\n",
    "def objective(trial):\n",
    "    # Suggest values for the hyperparameters\n",
    "    n_estimators = trial.suggest_int('n_estimators', 50, 200)\n",
    "    max_depth = trial.suggest_int('max_depth', 3, 20)\n",
    "    \n",
    "    # Create the RandomForestClassifier with suggested hyperparameters\n",
    "    model = RandomForestClassifier(\n",
    "        n_estimators=n_estimators,\n",
    "        max_depth=max_depth,\n",
    "        random_state=42\n",
    "    )\n",
    "\n",
    "    # Perform 3-fold cross-validation and calculate accuracy\n",
    "    score = cross_val_score(model, X_train, y_train, cv=3, scoring='accuracy').mean()\n",
    "\n",
    "    return score  # Return the accuracy score for Optuna to maximize\n"
   ]
  },
  {
   "cell_type": "code",
   "execution_count": 19,
   "id": "6b0fee04-468b-4086-b48a-79802fcd56ca",
   "metadata": {},
   "outputs": [
    {
     "name": "stderr",
     "output_type": "stream",
     "text": [
      "[I 2025-06-19 19:23:47,566] A new study created in memory with name: no-name-ebd0252c-4376-4011-9cec-d52fb79ef7be\n",
      "[I 2025-06-19 19:23:48,249] Trial 0 finished with value: 0.7690875232774674 and parameters: {'n_estimators': 108, 'max_depth': 8}. Best is trial 0 with value: 0.7690875232774674.\n",
      "[I 2025-06-19 19:23:48,560] Trial 1 finished with value: 0.7597765363128491 and parameters: {'n_estimators': 64, 'max_depth': 4}. Best is trial 0 with value: 0.7690875232774674.\n",
      "[I 2025-06-19 19:23:49,500] Trial 2 finished with value: 0.7765363128491621 and parameters: {'n_estimators': 177, 'max_depth': 14}. Best is trial 2 with value: 0.7765363128491621.\n",
      "[I 2025-06-19 19:23:50,141] Trial 3 finished with value: 0.7728119180633147 and parameters: {'n_estimators': 128, 'max_depth': 14}. Best is trial 2 with value: 0.7765363128491621.\n",
      "[I 2025-06-19 19:23:50,713] Trial 4 finished with value: 0.7802607076350093 and parameters: {'n_estimators': 119, 'max_depth': 18}. Best is trial 4 with value: 0.7802607076350093.\n",
      "[I 2025-06-19 19:23:51,608] Trial 5 finished with value: 0.7709497206703911 and parameters: {'n_estimators': 186, 'max_depth': 17}. Best is trial 4 with value: 0.7802607076350093.\n",
      "[I 2025-06-19 19:23:52,191] Trial 6 finished with value: 0.7746741154562383 and parameters: {'n_estimators': 123, 'max_depth': 12}. Best is trial 4 with value: 0.7802607076350093.\n",
      "[I 2025-06-19 19:23:52,632] Trial 7 finished with value: 0.7560521415270017 and parameters: {'n_estimators': 101, 'max_depth': 3}. Best is trial 4 with value: 0.7802607076350093.\n",
      "[I 2025-06-19 19:23:52,949] Trial 8 finished with value: 0.7579143389199255 and parameters: {'n_estimators': 76, 'max_depth': 3}. Best is trial 4 with value: 0.7802607076350093.\n",
      "[I 2025-06-19 19:23:53,761] Trial 9 finished with value: 0.7653631284916201 and parameters: {'n_estimators': 160, 'max_depth': 10}. Best is trial 4 with value: 0.7802607076350093.\n",
      "[I 2025-06-19 19:23:54,487] Trial 10 finished with value: 0.7690875232774674 and parameters: {'n_estimators': 149, 'max_depth': 20}. Best is trial 4 with value: 0.7802607076350093.\n",
      "[I 2025-06-19 19:23:55,403] Trial 11 finished with value: 0.7728119180633147 and parameters: {'n_estimators': 189, 'max_depth': 17}. Best is trial 4 with value: 0.7802607076350093.\n",
      "[I 2025-06-19 19:23:56,219] Trial 12 finished with value: 0.7765363128491621 and parameters: {'n_estimators': 161, 'max_depth': 16}. Best is trial 4 with value: 0.7802607076350093.\n",
      "[I 2025-06-19 19:23:56,675] Trial 13 finished with value: 0.7746741154562384 and parameters: {'n_estimators': 91, 'max_depth': 20}. Best is trial 4 with value: 0.7802607076350093.\n",
      "[I 2025-06-19 19:23:57,294] Trial 14 finished with value: 0.7653631284916201 and parameters: {'n_estimators': 137, 'max_depth': 14}. Best is trial 4 with value: 0.7802607076350093.\n",
      "[I 2025-06-19 19:23:57,925] Trial 15 finished with value: 0.7728119180633147 and parameters: {'n_estimators': 172, 'max_depth': 14}. Best is trial 4 with value: 0.7802607076350093.\n",
      "[I 2025-06-19 19:23:58,618] Trial 16 finished with value: 0.7765363128491621 and parameters: {'n_estimators': 197, 'max_depth': 18}. Best is trial 4 with value: 0.7802607076350093.\n",
      "[I 2025-06-19 19:23:59,046] Trial 17 finished with value: 0.7746741154562384 and parameters: {'n_estimators': 118, 'max_depth': 8}. Best is trial 4 with value: 0.7802607076350093.\n",
      "[I 2025-06-19 19:23:59,557] Trial 18 finished with value: 0.7672253258845437 and parameters: {'n_estimators': 143, 'max_depth': 12}. Best is trial 4 with value: 0.7802607076350093.\n",
      "[I 2025-06-19 19:23:59,768] Trial 19 finished with value: 0.7672253258845437 and parameters: {'n_estimators': 52, 'max_depth': 15}. Best is trial 4 with value: 0.7802607076350093.\n",
      "[I 2025-06-19 19:24:00,448] Trial 20 finished with value: 0.7690875232774674 and parameters: {'n_estimators': 176, 'max_depth': 19}. Best is trial 4 with value: 0.7802607076350093.\n",
      "[I 2025-06-19 19:24:01,074] Trial 21 finished with value: 0.7765363128491621 and parameters: {'n_estimators': 161, 'max_depth': 16}. Best is trial 4 with value: 0.7802607076350093.\n",
      "[I 2025-06-19 19:24:01,673] Trial 22 finished with value: 0.7728119180633147 and parameters: {'n_estimators': 157, 'max_depth': 16}. Best is trial 4 with value: 0.7802607076350093.\n",
      "[I 2025-06-19 19:24:02,381] Trial 23 finished with value: 0.7672253258845437 and parameters: {'n_estimators': 176, 'max_depth': 18}. Best is trial 4 with value: 0.7802607076350093.\n",
      "[I 2025-06-19 19:24:02,884] Trial 24 finished with value: 0.7709497206703911 and parameters: {'n_estimators': 135, 'max_depth': 13}. Best is trial 4 with value: 0.7802607076350093.\n",
      "[I 2025-06-19 19:24:03,649] Trial 25 finished with value: 0.7709497206703911 and parameters: {'n_estimators': 200, 'max_depth': 10}. Best is trial 4 with value: 0.7802607076350093.\n",
      "[I 2025-06-19 19:24:04,112] Trial 26 finished with value: 0.7783985102420856 and parameters: {'n_estimators': 112, 'max_depth': 16}. Best is trial 4 with value: 0.7802607076350093.\n",
      "[I 2025-06-19 19:24:04,468] Trial 27 finished with value: 0.7765363128491619 and parameters: {'n_estimators': 91, 'max_depth': 18}. Best is trial 4 with value: 0.7802607076350093.\n",
      "[I 2025-06-19 19:24:04,884] Trial 28 finished with value: 0.7672253258845437 and parameters: {'n_estimators': 112, 'max_depth': 10}. Best is trial 4 with value: 0.7802607076350093.\n",
      "[I 2025-06-19 19:24:05,270] Trial 29 finished with value: 0.7672253258845437 and parameters: {'n_estimators': 104, 'max_depth': 15}. Best is trial 4 with value: 0.7802607076350093.\n",
      "[I 2025-06-19 19:24:05,608] Trial 30 finished with value: 0.7746741154562384 and parameters: {'n_estimators': 89, 'max_depth': 19}. Best is trial 4 with value: 0.7802607076350093.\n",
      "[I 2025-06-19 19:24:06,115] Trial 31 finished with value: 0.7802607076350093 and parameters: {'n_estimators': 129, 'max_depth': 16}. Best is trial 4 with value: 0.7802607076350093.\n",
      "[I 2025-06-19 19:24:06,592] Trial 32 finished with value: 0.7728119180633147 and parameters: {'n_estimators': 130, 'max_depth': 15}. Best is trial 4 with value: 0.7802607076350093.\n",
      "[I 2025-06-19 19:24:07,009] Trial 33 finished with value: 0.7709497206703911 and parameters: {'n_estimators': 114, 'max_depth': 13}. Best is trial 4 with value: 0.7802607076350093.\n",
      "[I 2025-06-19 19:24:07,297] Trial 34 finished with value: 0.7746741154562384 and parameters: {'n_estimators': 74, 'max_depth': 17}. Best is trial 4 with value: 0.7802607076350093.\n",
      "[I 2025-06-19 19:24:07,753] Trial 35 finished with value: 0.7709497206703911 and parameters: {'n_estimators': 123, 'max_depth': 13}. Best is trial 4 with value: 0.7802607076350093.\n",
      "[I 2025-06-19 19:24:08,108] Trial 36 finished with value: 0.7597765363128491 and parameters: {'n_estimators': 100, 'max_depth': 6}. Best is trial 4 with value: 0.7802607076350093.\n",
      "[I 2025-06-19 19:24:08,647] Trial 37 finished with value: 0.7746741154562384 and parameters: {'n_estimators': 149, 'max_depth': 16}. Best is trial 4 with value: 0.7802607076350093.\n",
      "[I 2025-06-19 19:24:08,961] Trial 38 finished with value: 0.7709497206703911 and parameters: {'n_estimators': 81, 'max_depth': 17}. Best is trial 4 with value: 0.7802607076350093.\n",
      "[I 2025-06-19 19:24:09,445] Trial 39 finished with value: 0.7635009310986964 and parameters: {'n_estimators': 123, 'max_depth': 11}. Best is trial 4 with value: 0.7802607076350093.\n",
      "[I 2025-06-19 19:24:09,841] Trial 40 finished with value: 0.7690875232774674 and parameters: {'n_estimators': 104, 'max_depth': 19}. Best is trial 4 with value: 0.7802607076350093.\n",
      "[I 2025-06-19 19:24:10,584] Trial 41 finished with value: 0.7746741154562384 and parameters: {'n_estimators': 183, 'max_depth': 14}. Best is trial 4 with value: 0.7802607076350093.\n",
      "[I 2025-06-19 19:24:11,257] Trial 42 finished with value: 0.7765363128491621 and parameters: {'n_estimators': 168, 'max_depth': 16}. Best is trial 4 with value: 0.7802607076350093.\n",
      "[I 2025-06-19 19:24:11,821] Trial 43 finished with value: 0.7690875232774674 and parameters: {'n_estimators': 148, 'max_depth': 15}. Best is trial 4 with value: 0.7802607076350093.\n",
      "[I 2025-06-19 19:24:12,311] Trial 44 finished with value: 0.7802607076350093 and parameters: {'n_estimators': 131, 'max_depth': 17}. Best is trial 4 with value: 0.7802607076350093.\n",
      "[I 2025-06-19 19:24:12,819] Trial 45 finished with value: 0.7746741154562384 and parameters: {'n_estimators': 134, 'max_depth': 17}. Best is trial 4 with value: 0.7802607076350093.\n",
      "[I 2025-06-19 19:24:13,262] Trial 46 finished with value: 0.7783985102420856 and parameters: {'n_estimators': 117, 'max_depth': 20}. Best is trial 4 with value: 0.7802607076350093.\n",
      "[I 2025-06-19 19:24:13,695] Trial 47 finished with value: 0.7821229050279329 and parameters: {'n_estimators': 119, 'max_depth': 20}. Best is trial 47 with value: 0.7821229050279329.\n",
      "[I 2025-06-19 19:24:14,097] Trial 48 finished with value: 0.7728119180633147 and parameters: {'n_estimators': 109, 'max_depth': 19}. Best is trial 47 with value: 0.7821229050279329.\n",
      "[I 2025-06-19 19:24:14,618] Trial 49 finished with value: 0.7746741154562384 and parameters: {'n_estimators': 141, 'max_depth': 18}. Best is trial 47 with value: 0.7821229050279329.\n"
     ]
    },
    {
     "name": "stdout",
     "output_type": "stream",
     "text": [
      "CPU times: total: 26.5 s\n",
      "Wall time: 27.1 s\n"
     ]
    }
   ],
   "source": [
    "%%time\n",
    "# Create a study object and optimize the objective function\n",
    "# study = optuna.create_study(direction='maximize', sampler=optuna.samplers.TPESampler())  # We aim to maximize accuracy\n",
    "# study.optimize(objective, n_trials=50)  # Run 50 trials to find the best hyperparameters\n",
    "study= optuna.create_study (direction='maximize')\n",
    "study.optimize (objective, n_trials=50)"
   ]
  },
  {
   "cell_type": "code",
   "execution_count": 23,
   "id": "026ee4dc-3d4e-412f-8eb5-bbb24dec9fef",
   "metadata": {},
   "outputs": [
    {
     "name": "stdout",
     "output_type": "stream",
     "text": [
      "Best Trial Accuracy : 0.7821229050279329\n",
      "Best HyperParameters : {'n_estimators': 119, 'max_depth': 20}\n"
     ]
    }
   ],
   "source": [
    "print (f'Best Trial Accuracy : {study.best_trial.value}')\n",
    "print (f'Best HyperParameters : {study.best_trial.params}')"
   ]
  },
  {
   "cell_type": "code",
   "execution_count": 24,
   "id": "a9ec9929-4c1b-459c-a9d3-4c77eded60b1",
   "metadata": {},
   "outputs": [
    {
     "name": "stdout",
     "output_type": "stream",
     "text": [
      "Test Accuracy with best hyperparameters: 0.75\n"
     ]
    }
   ],
   "source": [
    "from sklearn.metrics import accuracy_score\n",
    "\n",
    "# Train a RandomForestClassifier using the best hyperparameters from Optuna\n",
    "best_model = RandomForestClassifier(**study.best_trial.params, random_state=42)\n",
    "\n",
    "# Fit the model to the training data\n",
    "best_model.fit(X_train, y_train)\n",
    "\n",
    "# Make predictions on the test set\n",
    "y_pred = best_model.predict(X_test)\n",
    "\n",
    "# Calculate the accuracy on the test set\n",
    "test_accuracy = accuracy_score(y_test, y_pred)\n",
    "\n",
    "# Print the test accuracy\n",
    "print(f'Test Accuracy with best hyperparameters: {test_accuracy:.2f}')"
   ]
  },
  {
   "cell_type": "markdown",
   "id": "13abec9c-6cf9-4b41-8528-4b18395e3e32",
   "metadata": {},
   "source": [
    "# Model Tuning "
   ]
  },
  {
   "cell_type": "code",
   "execution_count": 35,
   "id": "95a66f5e-949e-4aeb-8db9-3b8f26251d08",
   "metadata": {},
   "outputs": [],
   "source": [
    "# Importing the required libraries\n",
    "from sklearn.ensemble import RandomForestClassifier, GradientBoostingClassifier\n",
    "from sklearn.svm import SVC\n",
    "from sklearn.linear_model import LogisticRegression"
   ]
  },
  {
   "cell_type": "code",
   "execution_count": 64,
   "id": "f80167af-d7fd-49df-b7bb-04491788ab1f",
   "metadata": {},
   "outputs": [],
   "source": [
    "# Define the objective function for Optuna\n",
    "def objective (trial):\n",
    "    classifier_name = trial.suggest_categorical ('classifier', ['SVC', 'RandomForestClassifier', 'LogisticRegression', 'GradientBoosting'])\n",
    "\n",
    "    if classifier_name == 'SVC':\n",
    "        # SVM hyperparameters\n",
    "        c = trial.suggest_float('C', 0.1, 100, log=True)\n",
    "        kernel = trial.suggest_categorical('kernel', ['linear', 'rbf', 'poly', 'sigmoid'])\n",
    "        gamma = trial.suggest_categorical('gamma', ['scale', 'auto'])\n",
    "\n",
    "        model = SVC(C=c, kernel=kernel, gamma=gamma, random_state=42)\n",
    "    elif classifier_name == 'RandomForestClassifier':\n",
    "        # Random Forest hyperparameters\n",
    "        n_estimators = trial.suggest_int('n_estimators', 50, 300)\n",
    "        max_depth = trial.suggest_int('max_depth', 3, 20)\n",
    "        min_samples_split = trial.suggest_int('min_samples_split', 2, 10)\n",
    "        min_samples_leaf = trial.suggest_int('min_samples_leaf', 1, 10)\n",
    "        bootstrap = trial.suggest_categorical('bootstrap', [True, False])\n",
    "\n",
    "        model = RandomForestClassifier(\n",
    "            n_estimators=n_estimators,\n",
    "            max_depth=max_depth,\n",
    "            min_samples_split=min_samples_split,\n",
    "            min_samples_leaf=min_samples_leaf,\n",
    "            bootstrap=bootstrap,\n",
    "            random_state=42, n_jobs=-1\n",
    "        )\n",
    "\n",
    "    elif classifier_name == 'GradientBoosting':\n",
    "        # Gradient Boosting hyperparameters\n",
    "        n_estimators = trial.suggest_int('n_estimators', 50, 300)\n",
    "        learning_rate = trial.suggest_float('learning_rate', 0.01, 0.3, log=True)\n",
    "        max_depth = trial.suggest_int('max_depth', 3, 20)\n",
    "        min_samples_split = trial.suggest_int('min_samples_split', 2, 10)\n",
    "        min_samples_leaf = trial.suggest_int('min_samples_leaf', 1, 10)\n",
    "\n",
    "        model = GradientBoostingClassifier(\n",
    "            n_estimators=n_estimators,\n",
    "            learning_rate=learning_rate,\n",
    "            max_depth=max_depth,\n",
    "            min_samples_split=min_samples_split,\n",
    "            min_samples_leaf=min_samples_leaf,\n",
    "            random_state=42\n",
    "        )\n",
    "    elif classifier_name== 'LogisticRegression':\n",
    "        penalty= trial.suggest_categorical ('penalty',['l2', 'l1'])\n",
    "        C = trial.suggest_float('C', 0.01,10.0, log=True)\n",
    "        solver = 'liblinear' if penalty == 'l1' else 'lbfgs'\n",
    "\n",
    "        model = LogisticRegression(\n",
    "        penalty=penalty,\n",
    "        C=C,\n",
    "        solver=solver,\n",
    "        random_state=42,\n",
    "        max_iter=1000\n",
    "        )\n",
    "\n",
    "        \n",
    "    # Perform cross-validation and return the mean accuracy\n",
    "    score = cross_val_score(model, X_train, y_train, cv=3, scoring='accuracy', n_jobs=-1).mean()\n",
    "    return score"
   ]
  },
  {
   "cell_type": "code",
   "execution_count": 65,
   "id": "9c8baa17-237e-4f62-bb92-8573a7e2edef",
   "metadata": {},
   "outputs": [
    {
     "name": "stderr",
     "output_type": "stream",
     "text": [
      "[I 2025-06-19 21:25:30,224] A new study created in memory with name: no-name-37026c6e-a0bc-4778-87e4-37db7e00c21d\n",
      "[I 2025-06-19 21:25:31,245] Trial 0 finished with value: 0.7318435754189944 and parameters: {'classifier': 'GradientBoosting', 'n_estimators': 112, 'learning_rate': 0.1442045449601066, 'max_depth': 10, 'min_samples_split': 3, 'min_samples_leaf': 2}. Best is trial 0 with value: 0.7318435754189944.\n",
      "[I 2025-06-19 21:25:31,620] Trial 1 finished with value: 0.756052141527002 and parameters: {'classifier': 'SVC', 'C': 0.24113813972137085, 'kernel': 'rbf', 'gamma': 'scale'}. Best is trial 1 with value: 0.756052141527002.\n",
      "[I 2025-06-19 21:25:31,635] Trial 2 finished with value: 0.7839851024208566 and parameters: {'classifier': 'SVC', 'C': 0.5459907511663041, 'kernel': 'linear', 'gamma': 'scale'}. Best is trial 2 with value: 0.7839851024208566.\n",
      "[I 2025-06-19 21:25:31,649] Trial 3 finished with value: 0.7094972067039107 and parameters: {'classifier': 'SVC', 'C': 0.11505292880821917, 'kernel': 'poly', 'gamma': 'auto'}. Best is trial 2 with value: 0.7839851024208566.\n",
      "[I 2025-06-19 21:25:32,766] Trial 4 finished with value: 0.750465549348231 and parameters: {'classifier': 'GradientBoosting', 'n_estimators': 185, 'learning_rate': 0.06831998184695041, 'max_depth': 17, 'min_samples_split': 8, 'min_samples_leaf': 2}. Best is trial 2 with value: 0.7839851024208566.\n",
      "[I 2025-06-19 21:25:32,781] Trial 5 finished with value: 0.7783985102420856 and parameters: {'classifier': 'LogisticRegression', 'penalty': 'l1', 'C': 3.0808668597063185}. Best is trial 2 with value: 0.7839851024208566.\n",
      "[I 2025-06-19 21:25:33,138] Trial 6 finished with value: 0.7653631284916201 and parameters: {'classifier': 'RandomForestClassifier', 'n_estimators': 217, 'max_depth': 6, 'min_samples_split': 10, 'min_samples_leaf': 8, 'bootstrap': True}. Best is trial 2 with value: 0.7839851024208566.\n",
      "[I 2025-06-19 21:25:33,152] Trial 7 finished with value: 0.7113594040968342 and parameters: {'classifier': 'SVC', 'C': 0.11716995345078517, 'kernel': 'poly', 'gamma': 'auto'}. Best is trial 2 with value: 0.7839851024208566.\n",
      "[I 2025-06-19 21:25:33,414] Trial 8 finished with value: 0.7616387337057727 and parameters: {'classifier': 'RandomForestClassifier', 'n_estimators': 151, 'max_depth': 4, 'min_samples_split': 10, 'min_samples_leaf': 7, 'bootstrap': True}. Best is trial 2 with value: 0.7839851024208566.\n",
      "[I 2025-06-19 21:25:33,429] Trial 9 finished with value: 0.6945996275605214 and parameters: {'classifier': 'SVC', 'C': 12.353073037342838, 'kernel': 'sigmoid', 'gamma': 'auto'}. Best is trial 2 with value: 0.7839851024208566.\n",
      "[I 2025-06-19 21:25:33,447] Trial 10 finished with value: 0.7690875232774674 and parameters: {'classifier': 'LogisticRegression', 'penalty': 'l2', 'C': 0.023258095050309045}. Best is trial 2 with value: 0.7839851024208566.\n",
      "[I 2025-06-19 21:25:33,466] Trial 11 finished with value: 0.7802607076350093 and parameters: {'classifier': 'LogisticRegression', 'penalty': 'l1', 'C': 2.597567595635304}. Best is trial 2 with value: 0.7839851024208566.\n",
      "[I 2025-06-19 21:25:33,484] Trial 12 finished with value: 0.7765363128491621 and parameters: {'classifier': 'LogisticRegression', 'penalty': 'l1', 'C': 1.255332041565926}. Best is trial 2 with value: 0.7839851024208566.\n",
      "[I 2025-06-19 21:25:33,502] Trial 13 finished with value: 0.7765363128491621 and parameters: {'classifier': 'LogisticRegression', 'penalty': 'l1', 'C': 1.383257651552903}. Best is trial 2 with value: 0.7839851024208566.\n",
      "[I 2025-06-19 21:25:33,626] Trial 14 finished with value: 0.7858472998137801 and parameters: {'classifier': 'SVC', 'C': 77.4478917844088, 'kernel': 'linear', 'gamma': 'scale'}. Best is trial 14 with value: 0.7858472998137801.\n",
      "[I 2025-06-19 21:25:33,748] Trial 15 finished with value: 0.7858472998137801 and parameters: {'classifier': 'SVC', 'C': 82.44536789272568, 'kernel': 'linear', 'gamma': 'scale'}. Best is trial 14 with value: 0.7858472998137801.\n",
      "[I 2025-06-19 21:25:33,903] Trial 16 finished with value: 0.7858472998137801 and parameters: {'classifier': 'SVC', 'C': 81.63558033269813, 'kernel': 'linear', 'gamma': 'scale'}. Best is trial 14 with value: 0.7858472998137801.\n",
      "[I 2025-06-19 21:25:34,015] Trial 17 finished with value: 0.7858472998137801 and parameters: {'classifier': 'SVC', 'C': 80.3797118984629, 'kernel': 'linear', 'gamma': 'scale'}. Best is trial 14 with value: 0.7858472998137801.\n",
      "[I 2025-06-19 21:25:34,065] Trial 18 finished with value: 0.7858472998137801 and parameters: {'classifier': 'SVC', 'C': 21.36121435176488, 'kernel': 'linear', 'gamma': 'scale'}. Best is trial 14 with value: 0.7858472998137801.\n",
      "[I 2025-06-19 21:25:34,525] Trial 19 finished with value: 0.7709497206703911 and parameters: {'classifier': 'RandomForestClassifier', 'n_estimators': 300, 'max_depth': 20, 'min_samples_split': 2, 'min_samples_leaf': 10, 'bootstrap': False}. Best is trial 14 with value: 0.7858472998137801.\n",
      "[I 2025-06-19 21:25:34,790] Trial 20 finished with value: 0.7318435754189944 and parameters: {'classifier': 'GradientBoosting', 'n_estimators': 55, 'learning_rate': 0.010486295734220363, 'max_depth': 13, 'min_samples_split': 4, 'min_samples_leaf': 4}. Best is trial 14 with value: 0.7858472998137801.\n",
      "[I 2025-06-19 21:25:34,912] Trial 21 finished with value: 0.7858472998137801 and parameters: {'classifier': 'SVC', 'C': 95.09275630549733, 'kernel': 'linear', 'gamma': 'scale'}. Best is trial 14 with value: 0.7858472998137801.\n",
      "[I 2025-06-19 21:25:34,963] Trial 22 finished with value: 0.7858472998137801 and parameters: {'classifier': 'SVC', 'C': 29.440239950710282, 'kernel': 'linear', 'gamma': 'scale'}. Best is trial 14 with value: 0.7858472998137801.\n",
      "[I 2025-06-19 21:25:35,045] Trial 23 finished with value: 0.7858472998137801 and parameters: {'classifier': 'SVC', 'C': 47.075242450126524, 'kernel': 'linear', 'gamma': 'scale'}. Best is trial 14 with value: 0.7858472998137801.\n",
      "[I 2025-06-19 21:25:35,085] Trial 24 finished with value: 0.7858472998137801 and parameters: {'classifier': 'SVC', 'C': 14.318617669274252, 'kernel': 'linear', 'gamma': 'scale'}. Best is trial 14 with value: 0.7858472998137801.\n",
      "[I 2025-06-19 21:25:35,116] Trial 25 finished with value: 0.7150837988826816 and parameters: {'classifier': 'SVC', 'C': 47.57721110210447, 'kernel': 'rbf', 'gamma': 'scale'}. Best is trial 14 with value: 0.7858472998137801.\n",
      "[I 2025-06-19 21:25:35,134] Trial 26 finished with value: 0.7076350093109869 and parameters: {'classifier': 'SVC', 'C': 6.324715746206431, 'kernel': 'sigmoid', 'gamma': 'scale'}. Best is trial 14 with value: 0.7858472998137801.\n",
      "[I 2025-06-19 21:25:35,196] Trial 27 finished with value: 0.7858472998137801 and parameters: {'classifier': 'SVC', 'C': 50.96824779779318, 'kernel': 'linear', 'gamma': 'scale'}. Best is trial 14 with value: 0.7858472998137801.\n",
      "[I 2025-06-19 21:25:36,314] Trial 28 finished with value: 0.7430167597765364 and parameters: {'classifier': 'GradientBoosting', 'n_estimators': 287, 'learning_rate': 0.010109607540225645, 'max_depth': 10, 'min_samples_split': 5, 'min_samples_leaf': 5}. Best is trial 14 with value: 0.7858472998137801.\n",
      "[I 2025-06-19 21:25:36,496] Trial 29 finished with value: 0.7765363128491619 and parameters: {'classifier': 'RandomForestClassifier', 'n_estimators': 52, 'max_depth': 15, 'min_samples_split': 7, 'min_samples_leaf': 10, 'bootstrap': False}. Best is trial 14 with value: 0.7858472998137801.\n",
      "[I 2025-06-19 21:25:37,094] Trial 30 finished with value: 0.7337057728119181 and parameters: {'classifier': 'GradientBoosting', 'n_estimators': 250, 'learning_rate': 0.2667297337536573, 'max_depth': 7, 'min_samples_split': 6, 'min_samples_leaf': 1}. Best is trial 14 with value: 0.7858472998137801.\n",
      "[I 2025-06-19 21:25:37,217] Trial 31 finished with value: 0.7858472998137801 and parameters: {'classifier': 'SVC', 'C': 92.59442820944419, 'kernel': 'linear', 'gamma': 'scale'}. Best is trial 14 with value: 0.7858472998137801.\n",
      "[I 2025-06-19 21:25:37,360] Trial 32 finished with value: 0.7858472998137801 and parameters: {'classifier': 'SVC', 'C': 95.70627924941424, 'kernel': 'linear', 'gamma': 'scale'}. Best is trial 14 with value: 0.7858472998137801.\n",
      "[I 2025-06-19 21:25:37,420] Trial 33 finished with value: 0.7858472998137801 and parameters: {'classifier': 'SVC', 'C': 32.991606718884846, 'kernel': 'linear', 'gamma': 'scale'}. Best is trial 14 with value: 0.7858472998137801.\n",
      "[I 2025-06-19 21:25:37,522] Trial 34 finished with value: 0.7858472998137801 and parameters: {'classifier': 'SVC', 'C': 59.49430064624341, 'kernel': 'linear', 'gamma': 'scale'}. Best is trial 14 with value: 0.7858472998137801.\n",
      "[I 2025-06-19 21:25:37,572] Trial 35 finished with value: 0.7858472998137801 and parameters: {'classifier': 'SVC', 'C': 17.998496333194655, 'kernel': 'linear', 'gamma': 'scale'}. Best is trial 14 with value: 0.7858472998137801.\n",
      "[I 2025-06-19 21:25:37,602] Trial 36 finished with value: 0.7858472998137801 and parameters: {'classifier': 'SVC', 'C': 8.270158119104648, 'kernel': 'linear', 'gamma': 'scale'}. Best is trial 14 with value: 0.7858472998137801.\n",
      "[I 2025-06-19 21:25:37,621] Trial 37 finished with value: 0.6797020484171322 and parameters: {'classifier': 'SVC', 'C': 29.45525651774714, 'kernel': 'sigmoid', 'gamma': 'auto'}. Best is trial 14 with value: 0.7858472998137801.\n",
      "[I 2025-06-19 21:25:37,673] Trial 38 finished with value: 0.6815642458100558 and parameters: {'classifier': 'SVC', 'C': 62.96320758467957, 'kernel': 'poly', 'gamma': 'scale'}. Best is trial 14 with value: 0.7858472998137801.\n",
      "[I 2025-06-19 21:25:37,858] Trial 39 finished with value: 0.7690875232774674 and parameters: {'classifier': 'GradientBoosting', 'n_estimators': 117, 'learning_rate': 0.031673802388832835, 'max_depth': 3, 'min_samples_split': 8, 'min_samples_leaf': 7}. Best is trial 14 with value: 0.7858472998137801.\n",
      "[I 2025-06-19 21:25:38,266] Trial 40 finished with value: 0.7635009310986964 and parameters: {'classifier': 'RandomForestClassifier', 'n_estimators': 243, 'max_depth': 20, 'min_samples_split': 2, 'min_samples_leaf': 4, 'bootstrap': True}. Best is trial 14 with value: 0.7858472998137801.\n",
      "[I 2025-06-19 21:25:38,316] Trial 41 finished with value: 0.7858472998137801 and parameters: {'classifier': 'SVC', 'C': 22.293702504541915, 'kernel': 'linear', 'gamma': 'scale'}. Best is trial 14 with value: 0.7858472998137801.\n",
      "[I 2025-06-19 21:25:38,417] Trial 42 finished with value: 0.7858472998137801 and parameters: {'classifier': 'SVC', 'C': 65.83749574046942, 'kernel': 'linear', 'gamma': 'scale'}. Best is trial 14 with value: 0.7858472998137801.\n",
      "[I 2025-06-19 21:25:38,487] Trial 43 finished with value: 0.7858472998137801 and parameters: {'classifier': 'SVC', 'C': 38.23447882069088, 'kernel': 'linear', 'gamma': 'scale'}. Best is trial 14 with value: 0.7858472998137801.\n",
      "[I 2025-06-19 21:25:38,612] Trial 44 finished with value: 0.7858472998137801 and parameters: {'classifier': 'SVC', 'C': 94.4694334181686, 'kernel': 'linear', 'gamma': 'scale'}. Best is trial 14 with value: 0.7858472998137801.\n",
      "[I 2025-06-19 21:25:38,641] Trial 45 finished with value: 0.7355679702048418 and parameters: {'classifier': 'SVC', 'C': 24.171678305815306, 'kernel': 'rbf', 'gamma': 'scale'}. Best is trial 14 with value: 0.7858472998137801.\n",
      "[I 2025-06-19 21:25:38,660] Trial 46 finished with value: 0.7802607076350093 and parameters: {'classifier': 'LogisticRegression', 'penalty': 'l2', 'C': 6.472306269836983}. Best is trial 14 with value: 0.7858472998137801.\n",
      "[I 2025-06-19 21:25:38,764] Trial 47 finished with value: 0.7858472998137801 and parameters: {'classifier': 'SVC', 'C': 62.69374806864669, 'kernel': 'linear', 'gamma': 'scale'}. Best is trial 14 with value: 0.7858472998137801.\n",
      "[I 2025-06-19 21:25:38,793] Trial 48 finished with value: 0.7299813780260708 and parameters: {'classifier': 'SVC', 'C': 39.06059443422854, 'kernel': 'rbf', 'gamma': 'scale'}. Best is trial 14 with value: 0.7858472998137801.\n",
      "[I 2025-06-19 21:25:38,965] Trial 49 finished with value: 0.7746741154562384 and parameters: {'classifier': 'RandomForestClassifier', 'n_estimators': 99, 'max_depth': 17, 'min_samples_split': 5, 'min_samples_leaf': 8, 'bootstrap': False}. Best is trial 14 with value: 0.7858472998137801.\n",
      "[I 2025-06-19 21:25:38,982] Trial 50 finished with value: 0.7802607076350093 and parameters: {'classifier': 'LogisticRegression', 'penalty': 'l2', 'C': 7.411918639812809}. Best is trial 14 with value: 0.7858472998137801.\n",
      "[I 2025-06-19 21:25:39,094] Trial 51 finished with value: 0.7858472998137801 and parameters: {'classifier': 'SVC', 'C': 99.70273097830388, 'kernel': 'linear', 'gamma': 'scale'}. Best is trial 14 with value: 0.7858472998137801.\n",
      "[I 2025-06-19 21:25:39,206] Trial 52 finished with value: 0.7858472998137801 and parameters: {'classifier': 'SVC', 'C': 71.5945146007347, 'kernel': 'linear', 'gamma': 'scale'}. Best is trial 14 with value: 0.7858472998137801.\n",
      "[I 2025-06-19 21:25:39,287] Trial 53 finished with value: 0.7858472998137801 and parameters: {'classifier': 'SVC', 'C': 43.08714523069889, 'kernel': 'linear', 'gamma': 'scale'}. Best is trial 14 with value: 0.7858472998137801.\n",
      "[I 2025-06-19 21:25:39,389] Trial 54 finished with value: 0.7858472998137801 and parameters: {'classifier': 'SVC', 'C': 74.35901756322208, 'kernel': 'linear', 'gamma': 'scale'}. Best is trial 14 with value: 0.7858472998137801.\n",
      "[I 2025-06-19 21:25:39,460] Trial 55 finished with value: 0.6741154562383613 and parameters: {'classifier': 'SVC', 'C': 99.704815655992, 'kernel': 'poly', 'gamma': 'auto'}. Best is trial 14 with value: 0.7858472998137801.\n",
      "[I 2025-06-19 21:25:39,500] Trial 56 finished with value: 0.7858472998137801 and parameters: {'classifier': 'SVC', 'C': 19.353493857625637, 'kernel': 'linear', 'gamma': 'scale'}. Best is trial 14 with value: 0.7858472998137801.\n",
      "[I 2025-06-19 21:25:40,196] Trial 57 finished with value: 0.750465549348231 and parameters: {'classifier': 'GradientBoosting', 'n_estimators': 175, 'learning_rate': 0.032371033248733645, 'max_depth': 8, 'min_samples_split': 9, 'min_samples_leaf': 3}. Best is trial 14 with value: 0.7858472998137801.\n",
      "[I 2025-06-19 21:25:40,215] Trial 58 finished with value: 0.7839851024208566 and parameters: {'classifier': 'SVC', 'C': 0.4855519345777865, 'kernel': 'linear', 'gamma': 'auto'}. Best is trial 14 with value: 0.7858472998137801.\n",
      "[I 2025-06-19 21:25:40,234] Trial 59 finished with value: 0.7113594040968342 and parameters: {'classifier': 'SVC', 'C': 4.077955191558269, 'kernel': 'sigmoid', 'gamma': 'scale'}. Best is trial 14 with value: 0.7858472998137801.\n",
      "[I 2025-06-19 21:25:40,599] Trial 60 finished with value: 0.7579143389199254 and parameters: {'classifier': 'RandomForestClassifier', 'n_estimators': 206, 'max_depth': 13, 'min_samples_split': 6, 'min_samples_leaf': 6, 'bootstrap': True}. Best is trial 14 with value: 0.7858472998137801.\n",
      "[I 2025-06-19 21:25:40,661] Trial 61 finished with value: 0.7858472998137801 and parameters: {'classifier': 'SVC', 'C': 29.15540597509463, 'kernel': 'linear', 'gamma': 'scale'}. Best is trial 14 with value: 0.7858472998137801.\n",
      "[I 2025-06-19 21:25:40,701] Trial 62 finished with value: 0.7858472998137801 and parameters: {'classifier': 'SVC', 'C': 11.449265776224724, 'kernel': 'linear', 'gamma': 'scale'}. Best is trial 14 with value: 0.7858472998137801.\n",
      "[I 2025-06-19 21:25:40,783] Trial 63 finished with value: 0.7858472998137801 and parameters: {'classifier': 'SVC', 'C': 51.07568797928871, 'kernel': 'linear', 'gamma': 'scale'}. Best is trial 14 with value: 0.7858472998137801.\n",
      "[I 2025-06-19 21:25:40,897] Trial 64 finished with value: 0.7858472998137801 and parameters: {'classifier': 'SVC', 'C': 65.67016973804145, 'kernel': 'linear', 'gamma': 'scale'}. Best is trial 14 with value: 0.7858472998137801.\n",
      "[I 2025-06-19 21:25:40,936] Trial 65 finished with value: 0.6983240223463687 and parameters: {'classifier': 'SVC', 'C': 44.857208842210866, 'kernel': 'poly', 'gamma': 'scale'}. Best is trial 14 with value: 0.7858472998137801.\n",
      "[I 2025-06-19 21:25:40,955] Trial 66 finished with value: 0.7802607076350093 and parameters: {'classifier': 'LogisticRegression', 'penalty': 'l2', 'C': 8.26490516794494}. Best is trial 14 with value: 0.7858472998137801.\n",
      "[I 2025-06-19 21:25:41,059] Trial 67 finished with value: 0.7858472998137801 and parameters: {'classifier': 'SVC', 'C': 81.00959503342193, 'kernel': 'linear', 'gamma': 'auto'}. Best is trial 14 with value: 0.7858472998137801.\n",
      "[I 2025-06-19 21:25:41,544] Trial 68 finished with value: 0.750465549348231 and parameters: {'classifier': 'GradientBoosting', 'n_estimators': 146, 'learning_rate': 0.08678989765497784, 'max_depth': 17, 'min_samples_split': 4, 'min_samples_leaf': 9}. Best is trial 14 with value: 0.7858472998137801.\n",
      "[I 2025-06-19 21:25:41,572] Trial 69 finished with value: 0.7374301675977654 and parameters: {'classifier': 'SVC', 'C': 32.31339747430119, 'kernel': 'rbf', 'gamma': 'scale'}. Best is trial 14 with value: 0.7858472998137801.\n",
      "[I 2025-06-19 21:25:41,614] Trial 70 finished with value: 0.7858472998137801 and parameters: {'classifier': 'SVC', 'C': 15.032264693793994, 'kernel': 'linear', 'gamma': 'scale'}. Best is trial 14 with value: 0.7858472998137801.\n",
      "[I 2025-06-19 21:25:41,708] Trial 71 finished with value: 0.7858472998137801 and parameters: {'classifier': 'SVC', 'C': 53.682436089957065, 'kernel': 'linear', 'gamma': 'scale'}. Best is trial 14 with value: 0.7858472998137801.\n",
      "[I 2025-06-19 21:25:41,770] Trial 72 finished with value: 0.7858472998137801 and parameters: {'classifier': 'SVC', 'C': 51.90969452199561, 'kernel': 'linear', 'gamma': 'scale'}. Best is trial 14 with value: 0.7858472998137801.\n",
      "[I 2025-06-19 21:25:41,872] Trial 73 finished with value: 0.7858472998137801 and parameters: {'classifier': 'SVC', 'C': 77.02483489834985, 'kernel': 'linear', 'gamma': 'scale'}. Best is trial 14 with value: 0.7858472998137801.\n",
      "[I 2025-06-19 21:25:41,932] Trial 74 finished with value: 0.7858472998137801 and parameters: {'classifier': 'SVC', 'C': 38.17588993595469, 'kernel': 'linear', 'gamma': 'scale'}. Best is trial 14 with value: 0.7858472998137801.\n",
      "[I 2025-06-19 21:25:41,953] Trial 75 finished with value: 0.690875232774674 and parameters: {'classifier': 'SVC', 'C': 24.469640706506926, 'kernel': 'sigmoid', 'gamma': 'scale'}. Best is trial 14 with value: 0.7858472998137801.\n",
      "[I 2025-06-19 21:25:42,078] Trial 76 finished with value: 0.7858472998137801 and parameters: {'classifier': 'SVC', 'C': 77.24202565411905, 'kernel': 'linear', 'gamma': 'scale'}. Best is trial 14 with value: 0.7858472998137801.\n",
      "[I 2025-06-19 21:25:42,239] Trial 77 finished with value: 0.7653631284916201 and parameters: {'classifier': 'RandomForestClassifier', 'n_estimators': 84, 'max_depth': 10, 'min_samples_split': 8, 'min_samples_leaf': 1, 'bootstrap': False}. Best is trial 14 with value: 0.7858472998137801.\n",
      "[I 2025-06-19 21:25:42,334] Trial 78 finished with value: 0.7858472998137801 and parameters: {'classifier': 'SVC', 'C': 55.075052655311545, 'kernel': 'linear', 'gamma': 'scale'}. Best is trial 14 with value: 0.7858472998137801.\n",
      "[I 2025-06-19 21:25:42,352] Trial 79 finished with value: 0.7802607076350093 and parameters: {'classifier': 'LogisticRegression', 'penalty': 'l2', 'C': 8.374602074093302}. Best is trial 14 with value: 0.7858472998137801.\n",
      "[I 2025-06-19 21:25:42,413] Trial 80 finished with value: 0.7858472998137801 and parameters: {'classifier': 'SVC', 'C': 34.269141615553806, 'kernel': 'linear', 'gamma': 'scale'}. Best is trial 14 with value: 0.7858472998137801.\n",
      "[I 2025-06-19 21:25:42,453] Trial 81 finished with value: 0.7858472998137801 and parameters: {'classifier': 'SVC', 'C': 12.459323441348781, 'kernel': 'linear', 'gamma': 'scale'}. Best is trial 14 with value: 0.7858472998137801.\n",
      "[I 2025-06-19 21:25:42,515] Trial 82 finished with value: 0.7858472998137801 and parameters: {'classifier': 'SVC', 'C': 26.968739675729257, 'kernel': 'linear', 'gamma': 'scale'}. Best is trial 14 with value: 0.7858472998137801.\n",
      "[I 2025-06-19 21:25:42,534] Trial 83 finished with value: 0.7858472998137801 and parameters: {'classifier': 'SVC', 'C': 1.6990066576150107, 'kernel': 'linear', 'gamma': 'scale'}. Best is trial 14 with value: 0.7858472998137801.\n",
      "[I 2025-06-19 21:25:42,584] Trial 84 finished with value: 0.7858472998137801 and parameters: {'classifier': 'SVC', 'C': 19.692431141088797, 'kernel': 'linear', 'gamma': 'scale'}. Best is trial 14 with value: 0.7858472998137801.\n",
      "[I 2025-06-19 21:25:43,142] Trial 85 finished with value: 0.7672253258845437 and parameters: {'classifier': 'GradientBoosting', 'n_estimators': 254, 'learning_rate': 0.025192424741963707, 'max_depth': 5, 'min_samples_split': 7, 'min_samples_leaf': 6}. Best is trial 14 with value: 0.7858472998137801.\n",
      "[I 2025-06-19 21:25:43,244] Trial 86 finished with value: 0.7858472998137801 and parameters: {'classifier': 'SVC', 'C': 81.88285763450047, 'kernel': 'linear', 'gamma': 'scale'}. Best is trial 14 with value: 0.7858472998137801.\n",
      "[I 2025-06-19 21:25:43,315] Trial 87 finished with value: 0.7858472998137801 and parameters: {'classifier': 'SVC', 'C': 45.4647606118585, 'kernel': 'linear', 'gamma': 'scale'}. Best is trial 14 with value: 0.7858472998137801.\n",
      "[I 2025-06-19 21:25:43,345] Trial 88 finished with value: 0.7150837988826816 and parameters: {'classifier': 'SVC', 'C': 65.65039332999619, 'kernel': 'rbf', 'gamma': 'auto'}. Best is trial 14 with value: 0.7858472998137801.\n",
      "[I 2025-06-19 21:25:43,396] Trial 89 finished with value: 0.6852886405959032 and parameters: {'classifier': 'SVC', 'C': 57.969277873469544, 'kernel': 'poly', 'gamma': 'scale'}. Best is trial 14 with value: 0.7858472998137801.\n",
      "[I 2025-06-19 21:25:43,499] Trial 90 finished with value: 0.7858472998137801 and parameters: {'classifier': 'SVC', 'C': 99.28968724714372, 'kernel': 'linear', 'gamma': 'scale'}. Best is trial 14 with value: 0.7858472998137801.\n",
      "[I 2025-06-19 21:25:43,561] Trial 91 finished with value: 0.7858472998137801 and parameters: {'classifier': 'SVC', 'C': 39.61907740280319, 'kernel': 'linear', 'gamma': 'scale'}. Best is trial 14 with value: 0.7858472998137801.\n",
      "[I 2025-06-19 21:25:43,696] Trial 92 finished with value: 0.7858472998137801 and parameters: {'classifier': 'SVC', 'C': 83.63020941333653, 'kernel': 'linear', 'gamma': 'scale'}. Best is trial 14 with value: 0.7858472998137801.\n",
      "[I 2025-06-19 21:25:43,799] Trial 93 finished with value: 0.7858472998137801 and parameters: {'classifier': 'SVC', 'C': 65.81032497549539, 'kernel': 'linear', 'gamma': 'scale'}. Best is trial 14 with value: 0.7858472998137801.\n",
      "[I 2025-06-19 21:25:43,849] Trial 94 finished with value: 0.7858472998137801 and parameters: {'classifier': 'SVC', 'C': 16.730818653313786, 'kernel': 'linear', 'gamma': 'scale'}. Best is trial 14 with value: 0.7858472998137801.\n",
      "[I 2025-06-19 21:25:44,103] Trial 95 finished with value: 0.7616387337057727 and parameters: {'classifier': 'RandomForestClassifier', 'n_estimators': 138, 'max_depth': 14, 'min_samples_split': 3, 'min_samples_leaf': 4, 'bootstrap': True}. Best is trial 14 with value: 0.7858472998137801.\n",
      "[I 2025-06-19 21:25:44,123] Trial 96 finished with value: 0.7653631284916201 and parameters: {'classifier': 'SVC', 'C': 0.10521371229176713, 'kernel': 'sigmoid', 'gamma': 'scale'}. Best is trial 14 with value: 0.7858472998137801.\n",
      "[I 2025-06-19 21:25:44,197] Trial 97 finished with value: 0.7858472998137801 and parameters: {'classifier': 'SVC', 'C': 46.54178478147084, 'kernel': 'linear', 'gamma': 'scale'}. Best is trial 14 with value: 0.7858472998137801.\n",
      "[I 2025-06-19 21:25:44,215] Trial 98 finished with value: 0.7802607076350093 and parameters: {'classifier': 'LogisticRegression', 'penalty': 'l1', 'C': 9.158600013192823}. Best is trial 14 with value: 0.7858472998137801.\n",
      "[I 2025-06-19 21:25:44,286] Trial 99 finished with value: 0.7858472998137801 and parameters: {'classifier': 'SVC', 'C': 36.541050969280626, 'kernel': 'linear', 'gamma': 'scale'}. Best is trial 14 with value: 0.7858472998137801.\n"
     ]
    }
   ],
   "source": [
    "study = optuna.create_study (direction='maximize')\n",
    "study.optimize (objective, n_trials=100)"
   ]
  },
  {
   "cell_type": "code",
   "execution_count": 66,
   "id": "e9f5ea5d-fc45-4405-b016-a7c069e6c67b",
   "metadata": {},
   "outputs": [
    {
     "name": "stdout",
     "output_type": "stream",
     "text": [
      "Best trial parameters: {'classifier': 'SVC', 'C': 77.4478917844088, 'kernel': 'linear', 'gamma': 'scale'}\n",
      "Best trial accuracy: 0.7858472998137801\n"
     ]
    }
   ],
   "source": [
    "# Retrieve the best trial\n",
    "best_trial = study.best_trial\n",
    "print(\"Best trial parameters:\", best_trial.params)\n",
    "print(\"Best trial accuracy:\", best_trial.value)"
   ]
  },
  {
   "cell_type": "code",
   "execution_count": 68,
   "id": "de307e2b-2ea9-4abd-90bd-c43d39f21c2e",
   "metadata": {},
   "outputs": [
    {
     "data": {
      "text/plain": [
       "params_classifier\n",
       "SVC                       72\n",
       "LogisticRegression        10\n",
       "GradientBoosting           9\n",
       "RandomForestClassifier     9\n",
       "Name: count, dtype: int64"
      ]
     },
     "execution_count": 68,
     "metadata": {},
     "output_type": "execute_result"
    }
   ],
   "source": [
    "study.trials_dataframe()['params_classifier'].value_counts()"
   ]
  },
  {
   "cell_type": "code",
   "execution_count": 69,
   "id": "d1c42315-74c4-4038-8bc9-abf57efb2012",
   "metadata": {},
   "outputs": [
    {
     "data": {
      "text/plain": [
       "params_classifier\n",
       "GradientBoosting          0.747569\n",
       "LogisticRegression        0.778212\n",
       "RandomForestClassifier    0.766398\n",
       "SVC                       0.767096\n",
       "Name: value, dtype: float64"
      ]
     },
     "execution_count": 69,
     "metadata": {},
     "output_type": "execute_result"
    }
   ],
   "source": [
    "study.trials_dataframe().groupby('params_classifier')['value'].mean()"
   ]
  },
  {
   "cell_type": "code",
   "execution_count": null,
   "id": "a88b249c-994d-45c6-bdfe-0cc1f5f4bf8c",
   "metadata": {},
   "outputs": [],
   "source": []
  }
 ],
 "metadata": {
  "kernelspec": {
   "display_name": "Python 3 (ipykernel)",
   "language": "python",
   "name": "python3"
  },
  "language_info": {
   "codemirror_mode": {
    "name": "ipython",
    "version": 3
   },
   "file_extension": ".py",
   "mimetype": "text/x-python",
   "name": "python",
   "nbconvert_exporter": "python",
   "pygments_lexer": "ipython3",
   "version": "3.11.9"
  }
 },
 "nbformat": 4,
 "nbformat_minor": 5
}
