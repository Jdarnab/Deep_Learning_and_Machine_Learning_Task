{
 "cells": [
  {
   "cell_type": "code",
   "execution_count": 14,
   "id": "d6200773-7328-4d9f-83a9-25b83cde95e9",
   "metadata": {},
   "outputs": [],
   "source": [
    "import pandas as pd"
   ]
  },
  {
   "cell_type": "code",
   "execution_count": 15,
   "id": "6ebde1af-1f48-4228-b663-d89497185c3a",
   "metadata": {},
   "outputs": [],
   "source": [
    "df= pd.read_csv (r\"E:\\Bus Quality\\Bus Service Quality In Dhaka city_66.csv\")"
   ]
  },
  {
   "cell_type": "code",
   "execution_count": 73,
   "id": "743ba960-1381-4bd4-8b06-723470c16627",
   "metadata": {},
   "outputs": [
    {
     "data": {
      "text/html": [
       "<div>\n",
       "<style scoped>\n",
       "    .dataframe tbody tr th:only-of-type {\n",
       "        vertical-align: middle;\n",
       "    }\n",
       "\n",
       "    .dataframe tbody tr th {\n",
       "        vertical-align: top;\n",
       "    }\n",
       "\n",
       "    .dataframe thead th {\n",
       "        text-align: right;\n",
       "    }\n",
       "</style>\n",
       "<table border=\"1\" class=\"dataframe\">\n",
       "  <thead>\n",
       "    <tr style=\"text-align: right;\">\n",
       "      <th></th>\n",
       "      <th>Bus Route</th>\n",
       "      <th>Gender</th>\n",
       "      <th>Age</th>\n",
       "      <th>Duration</th>\n",
       "      <th>Tangibility_Q1_P</th>\n",
       "      <th>Tangibility_Q1_E</th>\n",
       "      <th>Tangibility_Q2_P</th>\n",
       "      <th>Tangibility_Q2_E</th>\n",
       "      <th>Tangibility_Q3_P</th>\n",
       "      <th>Tangibility_Q3_E</th>\n",
       "      <th>...</th>\n",
       "      <th>Tangibility_Mean</th>\n",
       "      <th>Reliability_Mean</th>\n",
       "      <th>Responsiveness_Mean</th>\n",
       "      <th>Assurance_Mean</th>\n",
       "      <th>Empathy_Mean</th>\n",
       "      <th>Tangibility_Deviation</th>\n",
       "      <th>Reliability_Deviation</th>\n",
       "      <th>Responsiveness_Deviation</th>\n",
       "      <th>Assurance_Deviation</th>\n",
       "      <th>Empathy_Deviation</th>\n",
       "    </tr>\n",
       "  </thead>\n",
       "  <tbody>\n",
       "    <tr>\n",
       "      <th>28</th>\n",
       "      <td>Gabtoli to Farmgate</td>\n",
       "      <td>2</td>\n",
       "      <td>25-39 Years</td>\n",
       "      <td>Over 2 years</td>\n",
       "      <td>2</td>\n",
       "      <td>4</td>\n",
       "      <td>1</td>\n",
       "      <td>5</td>\n",
       "      <td>2</td>\n",
       "      <td>4</td>\n",
       "      <td>...</td>\n",
       "      <td>1.8</td>\n",
       "      <td>2.0</td>\n",
       "      <td>1.25</td>\n",
       "      <td>1.25</td>\n",
       "      <td>1.4</td>\n",
       "      <td>46.0</td>\n",
       "      <td>26.666667</td>\n",
       "      <td>62.5</td>\n",
       "      <td>52.5</td>\n",
       "      <td>45.0</td>\n",
       "    </tr>\n",
       "  </tbody>\n",
       "</table>\n",
       "<p>1 rows × 63 columns</p>\n",
       "</div>"
      ],
      "text/plain": [
       "              Bus Route  Gender          Age      Duration  Tangibility_Q1_P  \\\n",
       "28  Gabtoli to Farmgate       2  25-39 Years  Over 2 years                 2   \n",
       "\n",
       "    Tangibility_Q1_E  Tangibility_Q2_P  Tangibility_Q2_E  Tangibility_Q3_P  \\\n",
       "28                 4                 1                 5                 2   \n",
       "\n",
       "    Tangibility_Q3_E  ...  Tangibility_Mean  Reliability_Mean  \\\n",
       "28                 4  ...               1.8               2.0   \n",
       "\n",
       "    Responsiveness_Mean  Assurance_Mean  Empathy_Mean  Tangibility_Deviation  \\\n",
       "28                 1.25            1.25           1.4                   46.0   \n",
       "\n",
       "    Reliability_Deviation  Responsiveness_Deviation  Assurance_Deviation  \\\n",
       "28              26.666667                      62.5                 52.5   \n",
       "\n",
       "    Empathy_Deviation  \n",
       "28               45.0  \n",
       "\n",
       "[1 rows x 63 columns]"
      ]
     },
     "execution_count": 73,
     "metadata": {},
     "output_type": "execute_result"
    }
   ],
   "source": [
    "df.sample ()"
   ]
  },
  {
   "cell_type": "code",
   "execution_count": 17,
   "id": "3307999c-1fb2-4906-b83f-9271351fa1aa",
   "metadata": {},
   "outputs": [
    {
     "name": "stderr",
     "output_type": "stream",
     "text": [
      "C:\\Users\\HP\\AppData\\Local\\Temp\\ipykernel_10236\\2719567611.py:10: FutureWarning: DataFrame.applymap has been deprecated. Use DataFrame.map instead.\n",
      "  df[servqual_cols] = df[servqual_cols].applymap(lambda x: likert_map.get(x, None))\n"
     ]
    }
   ],
   "source": [
    "likert_map = {\n",
    "    \"Strongly Disagree\": 1,\n",
    "    \"Disagree\": 2,\n",
    "    \"Neutral\": 3,\n",
    "    \"Agree\": 4,\n",
    "    \"Strongly Agree\": 5\n",
    "}\n",
    "\n",
    "servqual_cols = [col for col in df.columns if col.endswith(\"_P\") or col.endswith('_E') ]\n",
    "df[servqual_cols] = df[servqual_cols].applymap(lambda x: likert_map.get(x, None))"
   ]
  },
  {
   "cell_type": "code",
   "execution_count": 18,
   "id": "cc77e765-cc04-485c-9ee3-e4b99e3c90ce",
   "metadata": {},
   "outputs": [],
   "source": [
    "# df.isnull().sum()"
   ]
  },
  {
   "cell_type": "code",
   "execution_count": 19,
   "id": "b3df0635-a756-412b-a432-e515215fb24a",
   "metadata": {},
   "outputs": [],
   "source": [
    "# for col in df.columns:\n",
    "#     if col.endswith(\"_P\"):\n",
    "#         base = col[:-2]  # removes \"_P\"\n",
    "#         gap_col = f\"{base}_Gap\"\n",
    "#         df[gap_col] = df[f\"{base}_P\"] - df[f\"{base}_E\"]\n",
    "\n",
    "# dimensions = [\"Tangibility\", \"Reliability\", \"Responsiveness\", \"Assurance\", \"Empathy\"]\n",
    "\n",
    "# dimension_gap_scores = {}\n",
    "# for dim in dimensions:\n",
    "#     gap_cols = [col for col in df.columns if col.startswith(dim) and col.endswith(\"_Gap\")]\n",
    "#     dimension_gap_scores[dim] = df[gap_cols].mean(axis=1)"
   ]
  },
  {
   "cell_type": "code",
   "execution_count": 20,
   "id": "a2cc5dbe-106b-4c31-ab18-deb45ee23c25",
   "metadata": {},
   "outputs": [],
   "source": [
    "# for dim, scores in dimension_gap_scores.items():\n",
    "#     df[f\"{dim}_Gap_Avg\"] = scores"
   ]
  },
  {
   "cell_type": "code",
   "execution_count": 21,
   "id": "8ab3a9c0-4622-460b-bc00-fccdffb15319",
   "metadata": {},
   "outputs": [],
   "source": [
    "import pandas as pd\n",
    "from scipy.stats import ttest_rel\n",
    "items = [col[:-2] for col in df.columns if col.endswith(\"_P\")]  # base names like Tangibility_Q1\n",
    "\n",
    "results = []\n",
    "\n",
    "for item in items:\n",
    "    p = df[f\"{item}_P\"]\n",
    "    e = df[f\"{item}_E\"]\n",
    "    gap = p - e\n",
    "    t_stat, p_val = ttest_rel(p, e)\n",
    "# for item in items:\n",
    "#     try:\n",
    "#         p = df[f\"{item}_P\"]\n",
    "#         e = df[f\"{item}_E\"]\n",
    "#         t_stat, p_val = ttest_rel(p, e)\n",
    "#         results.append((item, t_stat, p_val))\n",
    "#     except Exception as ex:\n",
    "#         print(f\"Error with {item}: {ex}\")\n",
    "#         results.append((item, None, None))\n",
    "\n",
    "\n",
    "    results.append({\n",
    "        \"Dimension\": item.split(\"_\")[0],\n",
    "        \"Code\": item,\n",
    "        \"Perception Mean\": round(p.mean(), 3),\n",
    "        \"Perception SD\": round(p.std(), 3),\n",
    "        \"Expectation Mean\": round(e.mean(), 3),\n",
    "        \"Expectation SD\": round(e.std(), 3),\n",
    "        \"Gap Mean\": round(gap.mean(), 3),\n",
    "        \"p-value\": round(p_val, 4)\n",
    "    })"
   ]
  },
  {
   "cell_type": "code",
   "execution_count": 23,
   "id": "2a53d12d-9ef4-4e39-b06d-5af03c0224a2",
   "metadata": {},
   "outputs": [
    {
     "name": "stdout",
     "output_type": "stream",
     "text": [
      "         Dimension               Code  Perception Mean  Perception SD  \\\n",
      "0      Tangibility     Tangibility_Q1            2.194          1.120   \n",
      "1      Tangibility     Tangibility_Q2            2.176          1.131   \n",
      "2      Tangibility     Tangibility_Q3            1.984          1.025   \n",
      "3      Tangibility     Tangibility_Q4            1.860          1.025   \n",
      "4      Tangibility     Tangibility_Q5            2.070          1.073   \n",
      "5      Reliability     Reliability_Q1            2.548          1.355   \n",
      "6      Reliability     Reliability_Q2            1.930          0.998   \n",
      "7      Reliability     Reliability_Q3            2.078          1.107   \n",
      "8      Reliability     Reliability_Q4            1.892          1.019   \n",
      "9      Reliability     Reliability_Q5            2.224          1.099   \n",
      "10     Reliability     Reliability_Q6            2.034          1.054   \n",
      "11  Responsiveness  Responsiveness_Q4            2.180          1.145   \n",
      "12  Responsiveness  Responsiveness_Q1            2.310          1.142   \n",
      "13  Responsiveness  Responsiveness_Q2            2.184          1.103   \n",
      "14  Responsiveness  Responsiveness_Q3            2.150          1.122   \n",
      "15       Assurance       Assurance_Q1            2.324          1.155   \n",
      "16       Assurance       Assurance_Q2            2.324          1.047   \n",
      "17       Assurance       Assurance_Q3            2.220          1.055   \n",
      "18       Assurance       Assurance_Q4            1.566          0.824   \n",
      "19         Empathy         Empathy_Q1            2.166          1.098   \n",
      "20         Empathy         Empathy_Q2            2.394          1.085   \n",
      "21         Empathy         Empathy_Q3            2.568          1.188   \n",
      "22         Empathy         Empathy_Q4            2.448          1.157   \n",
      "23         Empathy         Empathy_Q5            1.970          0.898   \n",
      "\n",
      "    Expectation Mean  Expectation SD  Gap Mean  p-value  \n",
      "0              2.878           1.411    -0.684   0.0000  \n",
      "1              2.970           1.552    -0.794   0.0000  \n",
      "2              4.288           0.637    -2.304   0.0000  \n",
      "3              2.878           1.411    -1.018   0.0000  \n",
      "4              2.194           1.120    -0.124   0.0184  \n",
      "5              2.194           1.120     0.354   0.0000  \n",
      "6              2.878           1.411    -0.948   0.0000  \n",
      "7              4.610           0.557    -2.532   0.0000  \n",
      "8              2.194           1.120    -0.302   0.0000  \n",
      "9              2.194           1.120     0.030   0.5934  \n",
      "10             4.322           0.632    -2.288   0.0000  \n",
      "11             2.878           1.411    -0.698   0.0000  \n",
      "12             2.194           1.120     0.116   0.0693  \n",
      "13             2.878           1.411    -0.694   0.0000  \n",
      "14             3.742           0.721    -1.592   0.0000  \n",
      "15             2.194           1.120     0.130   0.0347  \n",
      "16             1.984           1.025     0.340   0.0000  \n",
      "17             2.194           1.120     0.026   0.6456  \n",
      "18             4.610           0.557    -3.044   0.0000  \n",
      "19             1.984           1.025     0.182   0.0015  \n",
      "20             4.366           0.611    -1.972   0.0000  \n",
      "21             1.984           1.025     0.584   0.0000  \n",
      "22             4.322           0.632    -1.874   0.0000  \n",
      "23             1.984           1.025    -0.014   0.7918  \n"
     ]
    }
   ],
   "source": [
    "t_test_df = pd.DataFrame(results)\n",
    "print(t_test_df)\n",
    "# t_test_df.to_csv('results_table.csv', index=False)"
   ]
  },
  {
   "cell_type": "code",
   "execution_count": 68,
   "id": "2e25dd1c-94a3-42a1-8a97-d0bad8d25560",
   "metadata": {},
   "outputs": [],
   "source": [
    "t_test_df.to_csv('results_table.csv', index=False)"
   ]
  },
  {
   "cell_type": "code",
   "execution_count": 24,
   "id": "ef906f35-4c83-4e0e-b0d4-4e1afd810139",
   "metadata": {},
   "outputs": [
    {
     "name": "stdout",
     "output_type": "stream",
     "text": [
      "        Dimension  Cronbach Alpha (Perception)  Cronbach Alpha (Expectation)\n",
      "0     Tangibility                        0.843                         0.836\n",
      "1     Reliability                        0.801                         0.790\n",
      "2  Responsiveness                        0.840                         0.807\n",
      "3       Assurance                        0.774                         0.729\n",
      "4         Empathy                        0.847                         0.749\n"
     ]
    }
   ],
   "source": [
    "dimensions = {\n",
    "    'Tangibility': ['Q1', 'Q2', 'Q3', 'Q4', 'Q5'],\n",
    "    'Reliability': ['Q1', 'Q2', 'Q3', 'Q4', 'Q5', 'Q6'],\n",
    "    'Responsiveness': ['Q1', 'Q2', 'Q3', 'Q4'],\n",
    "    'Assurance': ['Q1', 'Q2', 'Q3', 'Q4'],\n",
    "    'Empathy': ['Q1', 'Q2', 'Q3', 'Q4', 'Q5']\n",
    "}\n",
    "\n",
    "def get_items(df, dimension, suffix):\n",
    "    return [f\"{dimension}_{q}_{suffix}\" for q in dimensions[dimension]]\n",
    "\n",
    "def cronbach_alpha(df):\n",
    "    item_vars = df.var(axis=0, ddof=1)\n",
    "    total_var = df.sum(axis=1).var(ddof=1)\n",
    "    n_items = df.shape[1]\n",
    "    return (n_items / (n_items - 1)) * (1 - item_vars.sum() / total_var)\n",
    "\n",
    "results = []\n",
    "\n",
    "for dim in dimensions.keys():\n",
    "    # Perception\n",
    "    p_items = get_items(df, dim, 'P')\n",
    "    alpha_p = cronbach_alpha(df[p_items])\n",
    "    \n",
    "    # Expectation\n",
    "    e_items = get_items(df, dim, 'E')\n",
    "    alpha_e = cronbach_alpha(df[e_items])\n",
    "    \n",
    "    results.append({\n",
    "        'Dimension': dim,\n",
    "        'Cronbach Alpha (Perception)': round(alpha_p, 3),\n",
    "        'Cronbach Alpha (Expectation)': round(alpha_e, 3)\n",
    "    })\n",
    "\n",
    "alpha_df = pd.DataFrame(results)\n",
    "print(alpha_df)"
   ]
  },
  {
   "cell_type": "code",
   "execution_count": 69,
   "id": "78165549-8413-4ddf-bcd6-b5def32e9f51",
   "metadata": {},
   "outputs": [],
   "source": [
    "alpha_df.to_csv('Cronbach Alpha2.csv', index=False)"
   ]
  },
  {
   "cell_type": "code",
   "execution_count": 25,
   "id": "a7cab56d-b9b2-4a35-92a4-af8a934f25e6",
   "metadata": {},
   "outputs": [
    {
     "name": "stdout",
     "output_type": "stream",
     "text": [
      "        Dimension  Perception Mean  Expectation Mean  Percentage Deviation  \\\n",
      "0     Tangibility            2.057             3.042                  32.4   \n",
      "1     Reliability            2.118             3.065                  30.9   \n",
      "2  Responsiveness            2.206             2.923                  24.5   \n",
      "3       Assurance            2.108             2.746                  23.2   \n",
      "4         Empathy            2.309             2.928                  21.1   \n",
      "\n",
      "  LOS Category  \n",
      "0        LOS 2  \n",
      "1        LOS 2  \n",
      "2        LOS 2  \n",
      "3        LOS 2  \n",
      "4        LOS 2  \n"
     ]
    }
   ],
   "source": [
    "dimensions = {\n",
    "    'Tangibility': ['Q1', 'Q2', 'Q3', 'Q4', 'Q5'],\n",
    "    'Reliability': ['Q1', 'Q2', 'Q3', 'Q4', 'Q5', 'Q6'],\n",
    "    'Responsiveness': ['Q1', 'Q2', 'Q3', 'Q4'],\n",
    "    'Assurance': ['Q1', 'Q2', 'Q3', 'Q4'],\n",
    "    'Empathy': ['Q1', 'Q2', 'Q3', 'Q4', 'Q5']\n",
    "}\n",
    "def get_items(dimension, suffix):\n",
    "    return [f\"{dimension}_{q}_{suffix}\" for q in dimensions[dimension]]\n",
    "\n",
    "results = []\n",
    "\n",
    "for dim in dimensions:\n",
    "    p_items = get_items(dim, 'P')\n",
    "    e_items = get_items(dim, 'E')\n",
    "    \n",
    "    p_mean = df[p_items].mean(axis=1).mean()\n",
    "    e_mean = df[e_items].mean(axis=1).mean()\n",
    "    \n",
    "    deviation = ((e_mean - p_mean) / e_mean) * 100\n",
    "    \n",
    "    results.append({\n",
    "        'Dimension': dim,\n",
    "        'Perception Mean': round(p_mean, 3),\n",
    "        'Expectation Mean': round(e_mean, 3),\n",
    "        'Percentage Deviation': round(deviation, 1),\n",
    "        'LOS Category': 'LOS 2'  # Placeholder, can be automated\n",
    "    })\n",
    "\n",
    "los_df = pd.DataFrame(results)\n",
    "print(los_df)"
   ]
  },
  {
   "cell_type": "code",
   "execution_count": 70,
   "id": "a483b3d7-10e0-4835-924b-46759c9f70b6",
   "metadata": {},
   "outputs": [],
   "source": [
    "los_df.to_csv('LOS.csv', index=False)"
   ]
  },
  {
   "cell_type": "code",
   "execution_count": 29,
   "id": "4ad5162f-45ed-4b7f-b59c-e6b5de9c4d80",
   "metadata": {
    "scrolled": true
   },
   "outputs": [
    {
     "name": "stdout",
     "output_type": "stream",
     "text": [
      "Optimization terminated successfully.\n",
      "         Current function value: 1.045897\n",
      "         Iterations: 32\n",
      "         Function evaluations: 34\n",
      "         Gradient evaluations: 34\n",
      "                             OrderedModel Results                             \n",
      "==============================================================================\n",
      "Dep. Variable:           Satisfaction   Log-Likelihood:                -522.95\n",
      "Model:                   OrderedModel   AIC:                             1064.\n",
      "Method:            Maximum Likelihood   BIC:                             1102.\n",
      "Date:                Wed, 06 Aug 2025                                         \n",
      "Time:                        00:55:55                                         \n",
      "No. Observations:                 500                                         \n",
      "Df Residuals:                     491                                         \n",
      "Df Model:                           5                                         \n",
      "=======================================================================================\n",
      "                          coef    std err          z      P>|z|      [0.025      0.975]\n",
      "---------------------------------------------------------------------------------------\n",
      "Tangibility_Mean        0.0905      0.132      0.687      0.492      -0.168       0.349\n",
      "Reliability_Mean        0.5398      0.155      3.485      0.000       0.236       0.843\n",
      "Responsiveness_Mean     0.0568      0.146      0.388      0.698      -0.230       0.344\n",
      "Assurance_Mean          1.3091      0.188      6.946      0.000       0.940       1.678\n",
      "Empathy_Mean            0.1876      0.159      1.176      0.239      -0.125       0.500\n",
      "1/2                     3.9064      0.344     11.355      0.000       3.232       4.581\n",
      "2/3                     0.7758      0.068     11.411      0.000       0.643       0.909\n",
      "3/4                     0.6530      0.098      6.636      0.000       0.460       0.846\n",
      "4/5                     0.5343      0.192      2.784      0.005       0.158       0.911\n",
      "=======================================================================================\n",
      "McFadden's Pseudo R²: 0.1891\n"
     ]
    }
   ],
   "source": [
    "# Map satisfaction levels to numeric scores\n",
    "satisfaction_map = {\n",
    "    'Strongly Disagree': 1,\n",
    "    'Disagree': 2,\n",
    "    'Neutral': 3,\n",
    "    'Agree': 4,\n",
    "    'Strongly Agree': 5\n",
    "}\n",
    "\n",
    "df['Satisfaction'] = df['Satisfaction'].map(satisfaction_map)\n",
    "\n",
    "\n",
    "import statsmodels.api as sm\n",
    "from statsmodels.miscmodels.ordinal_model import OrderedModel\n",
    "\n",
    "\n",
    "# Create new columns for mean perception scores\n",
    "for dim, items in dimensions.items():\n",
    "    p_cols = [f\"{dim}_{q}_P\" for q in items]\n",
    "    df[f\"{dim}_Mean\"] = df[p_cols].mean(axis=1)\n",
    "\n",
    "# Define independent variables\n",
    "X = df[[f\"{dim}_Mean\" for dim in dimensions.keys()]]\n",
    "\n",
    "# # Add constant for intercept\n",
    "# X = sm.add_constant(X)\n",
    "\n",
    "# Dependent variable\n",
    "y = df['Satisfaction']\n",
    "\n",
    "# Fit the model\n",
    "# model = sm.OLS(y, X).fit()\n",
    "\n",
    "model = OrderedModel(\n",
    "    y,\n",
    "    X,\n",
    "    distr=\"logit\"       # alternatives: \"probit\"\n",
    ")\n",
    "res = model.fit(method=\"bfgs\")\n",
    "print(res.summary())\n",
    "pseudo_r2 = 1 - res.llf / res.llnull\n",
    "print(f\"McFadden's Pseudo R²: {pseudo_r2:.4f}\")\n",
    "\n",
    "\n",
    "# # Display summary\n",
    "# print(model.summary())"
   ]
  },
  {
   "cell_type": "code",
   "execution_count": 26,
   "id": "01aa5f23-07ba-4c5e-8d77-a2a453622356",
   "metadata": {},
   "outputs": [],
   "source": [
    "# # summary_df = model.summary2().tables[1]  # This gives you the coefficients table\n",
    "# import pandas as pd\n",
    "\n",
    "# # Get parameter names and values\n",
    "# params = res.params\n",
    "# conf_int = res.conf_int()\n",
    "# summary_table = pd.DataFrame({\n",
    "#     'coef': params,\n",
    "#     'std err': res.bse,\n",
    "#     'z': params / res.bse,\n",
    "#     'p-value': res.pvalues,\n",
    "#     'CI_lower': conf_int[0],\n",
    "#     'CI_upper': conf_int[1]\n",
    "# })\n",
    "\n",
    "# # Save to CSV\n",
    "# summary_table.to_csv('OrderedModel_Coefficients.csv', index=True)\n",
    "# # summary_df.to_csv('Perception_Model1.csv', index=True)"
   ]
  },
  {
   "cell_type": "code",
   "execution_count": 42,
   "id": "9547863f-6947-4a47-a824-0f62ff7ed38e",
   "metadata": {},
   "outputs": [
    {
     "name": "stdout",
     "output_type": "stream",
     "text": [
      "Optimization terminated successfully.\n",
      "         Current function value: 1.256474\n",
      "         Iterations: 22\n",
      "         Function evaluations: 23\n",
      "         Gradient evaluations: 23\n",
      "                             OrderedModel Results                             \n",
      "==============================================================================\n",
      "Dep. Variable:           Satisfaction   Log-Likelihood:                -628.24\n",
      "Model:                   OrderedModel   AIC:                             1274.\n",
      "Method:            Maximum Likelihood   BIC:                             1312.\n",
      "Date:                Wed, 06 Aug 2025                                         \n",
      "Time:                        01:02:14                                         \n",
      "No. Observations:                 500                                         \n",
      "Df Residuals:                     491                                         \n",
      "Df Model:                           5                                         \n",
      "==============================================================================\n",
      "                 coef    std err          z      P>|z|      [0.025      0.975]\n",
      "------------------------------------------------------------------------------\n",
      "x1            -0.0481      0.111     -0.433      0.665      -0.266       0.170\n",
      "x2            -0.0021      0.116     -0.018      0.985      -0.230       0.226\n",
      "x3             0.3162      0.124      2.557      0.011       0.074       0.559\n",
      "x4            -0.5374      0.124     -4.348      0.000      -0.780      -0.295\n",
      "x5            -0.0537      0.098     -0.547      0.584      -0.246       0.139\n",
      "1/2           -0.5123      0.094     -5.455      0.000      -0.696      -0.328\n",
      "2/3            0.4750      0.066      7.162      0.000       0.345       0.605\n",
      "3/4            0.4238      0.101      4.178      0.000       0.225       0.623\n",
      "4/5            0.2707      0.200      1.356      0.175      -0.121       0.662\n",
      "==============================================================================\n",
      "McFadden's Pseudo R²: 0.0259\n"
     ]
    }
   ],
   "source": [
    "for dim, items in dimensions.items():\n",
    "    p_cols = [f\"{dim}_{q}_P\" for q in items]\n",
    "    e_cols = [f\"{dim}_{q}_E\" for q in items]\n",
    "    \n",
    "    # Row-wise deviation for each item\n",
    "    deviation_scores = (df[e_cols].values - df[p_cols].values) / df[e_cols].values * 100\n",
    "    df[f\"{dim}_Deviation\"] = deviation_scores.mean(axis=1)\n",
    "\n",
    "X = df[[f\"{dim}_Deviation\" for dim in dimensions.keys()]]\n",
    "#X = sm.add_constant(X)\n",
    "y = df['Satisfaction']\n",
    "from sklearn.preprocessing import StandardScaler\n",
    "sc= StandardScaler ()\n",
    "X_trf= sc.fit_transform (X)\n",
    "\n",
    "# model = sm.OLS(y, X).fit()\n",
    "# print(model.summary())\n",
    "\n",
    "model = OrderedModel(\n",
    "    y,\n",
    "    X_trf,\n",
    "    distr=\"logit\"       # alternatives: \"probit\"\n",
    ")\n",
    "res = model.fit(method=\"bfgs\")\n",
    "print(res.summary())\n",
    "pseudo_r2 = 1 - res.llf / res.llnull\n",
    "print(f\"McFadden's Pseudo R²: {pseudo_r2:.4f}\")"
   ]
  },
  {
   "cell_type": "code",
   "execution_count": 142,
   "id": "6ec2bc1e-1d04-4cda-b406-9e7c659e1e0a",
   "metadata": {},
   "outputs": [],
   "source": [
    "# summary_df = model.summary2().tables[1]  # This gives you the coefficients table\n",
    "# summary_df.to_csv('Expectation_Model.csv', index=True)"
   ]
  },
  {
   "cell_type": "code",
   "execution_count": 36,
   "id": "30619863-e696-4ebb-ab85-f187559ef65a",
   "metadata": {
    "scrolled": true
   },
   "outputs": [
    {
     "data": {
      "text/plain": [
       "Index(['Bus Route', 'Gender', 'Age', 'Duration', 'Tangibility_Q1_P',\n",
       "       'Tangibility_Q1_E', 'Tangibility_Q2_P', 'Tangibility_Q2_E',\n",
       "       'Tangibility_Q3_P', 'Tangibility_Q3_E', 'Tangibility_Q4_P',\n",
       "       'Tangibility_Q4_E', 'Tangibility_Q5_P', 'Tangibility_Q5_E',\n",
       "       'Reliability_Q1_P', 'Reliability_Q1_E', 'Reliability_Q2_P',\n",
       "       'Reliability_Q2_E', 'Reliability_Q3_P', 'Reliability_Q3_E',\n",
       "       'Reliability_Q4_P', 'Reliability_Q4_E', 'Reliability_Q5_P',\n",
       "       'Reliability_Q5_E', 'Reliability_Q6_P', 'Reliability_Q6_E',\n",
       "       'Responsiveness_Q4_P', 'Responsiveness_Q4_E', 'Responsiveness_Q1_P',\n",
       "       'Responsiveness_Q1_E', 'Responsiveness_Q2_P', 'Responsiveness_Q2_E',\n",
       "       'Responsiveness_Q3_P', 'Responsiveness_Q3_E', 'Assurance_Q1_P',\n",
       "       'Assurance_Q1_E', 'Assurance_Q2_P', 'Assurance_Q2_E', 'Assurance_Q3_P',\n",
       "       'Assurance_Q3_E', 'Assurance_Q4_P', 'Assurance_Q4_E', 'Empathy_Q1_P',\n",
       "       'Empathy_Q1_E', 'Empathy_Q2_P', 'Empathy_Q2_E', 'Empathy_Q3_P',\n",
       "       'Empathy_Q3_E', 'Empathy_Q4_P', 'Empathy_Q4_E', 'Empathy_Q5_P',\n",
       "       'Empathy_Q5_E', 'Satisfaction', 'Tangibility_Mean', 'Reliability_Mean',\n",
       "       'Responsiveness_Mean', 'Assurance_Mean', 'Empathy_Mean',\n",
       "       'Tangibility_Deviation', 'Reliability_Deviation',\n",
       "       'Responsiveness_Deviation', 'Assurance_Deviation', 'Empathy_Deviation'],\n",
       "      dtype='object')"
      ]
     },
     "execution_count": 36,
     "metadata": {},
     "output_type": "execute_result"
    }
   ],
   "source": [
    "df.columns"
   ]
  },
  {
   "cell_type": "code",
   "execution_count": 37,
   "id": "aa3309a6-37a6-4c46-8923-bc7b9fd256e6",
   "metadata": {},
   "outputs": [
    {
     "data": {
      "text/plain": [
       "Index(['Bus Route', 'Gender', 'Age', 'Duration', 'Satisfaction', 'Tangibility',\n",
       "       'Reliability', 'Responsiveness', 'Assurance', 'Empathy',\n",
       "       'Tangibility_Deviation', 'Reliability_Deviation',\n",
       "       'Responsiveness_Deviation', 'Assurance_Deviation', 'Empathy_Deviation'],\n",
       "      dtype='object')"
      ]
     },
     "execution_count": 37,
     "metadata": {},
     "output_type": "execute_result"
    }
   ],
   "source": [
    "df2= df.drop (columns=[ 'Tangibility_Q1_P',\n",
    "       'Tangibility_Q1_E', 'Tangibility_Q2_P', 'Tangibility_Q2_E',\n",
    "       'Tangibility_Q3_P', 'Tangibility_Q3_E', 'Tangibility_Q4_P',\n",
    "       'Tangibility_Q4_E', 'Tangibility_Q5_P', 'Tangibility_Q5_E',\n",
    "       'Reliability_Q1_P', 'Reliability_Q1_E', 'Reliability_Q2_P',\n",
    "       'Reliability_Q2_E', 'Reliability_Q3_P', 'Reliability_Q3_E',\n",
    "       'Reliability_Q4_P', 'Reliability_Q4_E', 'Reliability_Q5_P',\n",
    "       'Reliability_Q5_E', 'Reliability_Q6_P', 'Reliability_Q6_E',\n",
    "       'Responsiveness_Q4_P', 'Responsiveness_Q4_E', 'Responsiveness_Q1_P',\n",
    "       'Responsiveness_Q1_E', 'Responsiveness_Q2_P', 'Responsiveness_Q2_E',\n",
    "       'Responsiveness_Q3_P', 'Responsiveness_Q3_E', 'Assurance_Q1_P',\n",
    "       'Assurance_Q1_E', 'Assurance_Q2_P', 'Assurance_Q2_E', 'Assurance_Q3_P',\n",
    "       'Assurance_Q3_E', 'Assurance_Q4_P', 'Assurance_Q4_E', 'Empathy_Q1_P',\n",
    "       'Empathy_Q1_E', 'Empathy_Q2_P', 'Empathy_Q2_E', 'Empathy_Q3_P',\n",
    "       'Empathy_Q3_E', 'Empathy_Q4_P', 'Empathy_Q4_E', 'Empathy_Q5_P',\n",
    "       'Empathy_Q5_E'])#,'Gap_Mean',\n",
    "       #'Age_Label', 'Route_Code'])\n",
    "\n",
    "# Rename columns by removing '_Mean' suffix\n",
    "df2.rename(columns=lambda col: col.replace('_Mean', '') if '_Mean' in col else col, inplace=True)\n",
    "df2.columns"
   ]
  },
  {
   "cell_type": "code",
   "execution_count": 57,
   "id": "b3d241cc-af87-4a60-824d-316cf83491db",
   "metadata": {},
   "outputs": [
    {
     "data": {
      "text/plain": [
       "(500, 15)"
      ]
     },
     "execution_count": 57,
     "metadata": {},
     "output_type": "execute_result"
    }
   ],
   "source": [
    "df2.shape"
   ]
  },
  {
   "cell_type": "code",
   "execution_count": 58,
   "id": "f1bdcdb9-a5b4-4758-af6b-43323cfb3af5",
   "metadata": {
    "scrolled": true
   },
   "outputs": [
    {
     "data": {
      "text/plain": [
       "(500, 15)"
      ]
     },
     "execution_count": 58,
     "metadata": {},
     "output_type": "execute_result"
    }
   ],
   "source": [
    "from sklearn.preprocessing import OrdinalEncoder, LabelEncoder\n",
    "from xgboost import XGBClassifier\n",
    "from sklearn.model_selection import train_test_split\n",
    "from sklearn.metrics import accuracy_score\n",
    "\n",
    "age_order = ['10 to 24 Years', '25-39 Years', '40 to 59 Year', 'more than 60 Years']\n",
    "\n",
    "duration_order = ['Under 6 months', 'From 6 months to 1 year', 'From 1 year to 2 years','Over 2 years']\n",
    "\n",
    "ordinal_enc = OrdinalEncoder(categories=[age_order, duration_order])\n",
    "df2[['Age', 'Duration']] = ordinal_enc.fit_transform(df[['Age', 'Duration']])\n",
    "\n",
    "# 🎯 Label encode nominal categorical column\n",
    "le = LabelEncoder()\n",
    "df2['Bus Route'] = le.fit_transform(df['Bus Route'])\n",
    "\n",
    "X= df2.drop(columns=['Satisfaction'])\n",
    "y= df2['Satisfaction']\n",
    "df2.shape"
   ]
  },
  {
   "cell_type": "code",
   "execution_count": 62,
   "id": "1c702516-807c-44c4-82fa-9773fd91fd0c",
   "metadata": {},
   "outputs": [
    {
     "name": "stdout",
     "output_type": "stream",
     "text": [
      "========================================\n",
      "XGBOOST Model Traning Started\n",
      "Fitting 10 folds for each of 162 candidates, totalling 1620 fits\n"
     ]
    },
    {
     "name": "stderr",
     "output_type": "stream",
     "text": [
      "C:\\Users\\HP\\AppData\\Local\\Packages\\PythonSoftwareFoundation.Python.3.11_qbz5n2kfra8p0\\LocalCache\\local-packages\\Python311\\site-packages\\sklearn\\model_selection\\_split.py:776: UserWarning: The least populated class in y has only 2 members, which is less than n_splits=10.\n",
      "  warnings.warn(\n"
     ]
    },
    {
     "name": "stdout",
     "output_type": "stream",
     "text": [
      "Best Parameters {'learning_rate': 0.01, 'max_depth': 10, 'n_estimators': 150, 'reg_alpha': 1, 'reg_lamda': 1}\n",
      "Best Accuracy 0.5599999999999998\n",
      "========================================\n",
      "Task Done\n",
      "CPU times: total: 3.83 s\n",
      "Wall time: 13.2 s\n"
     ]
    },
    {
     "name": "stderr",
     "output_type": "stream",
     "text": [
      "C:\\Users\\HP\\AppData\\Local\\Packages\\PythonSoftwareFoundation.Python.3.11_qbz5n2kfra8p0\\LocalCache\\local-packages\\Python311\\site-packages\\xgboost\\training.py:183: UserWarning: [01:09:47] WARNING: C:\\actions-runner\\_work\\xgboost\\xgboost\\src\\learner.cc:738: \n",
      "Parameters: { \"eval_metrics\", \"reg_lamda\" } are not used.\n",
      "\n",
      "  bst.update(dtrain, iteration=i, fobj=obj)\n"
     ]
    }
   ],
   "source": [
    "%%time\n",
    "X_train, X_test, y_train, y_test= train_test_split (X,y, test_size=.8, stratify=y, random_state=42)\n",
    "y_train_adj= y_train - 1\n",
    "y_test_adj= y_test - 1\n",
    "X_train_trf= sc.fit_transform (X_train)\n",
    "X_test_trf= sc.transform (X_test)\n",
    "print ('='*40)\n",
    "print ('XGBOOST Model Traning Started')\n",
    "from sklearn.utils.class_weight import compute_sample_weight\n",
    "\n",
    "param_grid ={\n",
    "    'learning_rate': [0.01,0.1,0.3],\n",
    "    'max_depth': [5,10,20],\n",
    "    'n_estimators':[25,50,150],\n",
    "    'reg_alpha': [0.01,0.1,1],\n",
    "    'reg_lamda': [1,5]\n",
    "}\n",
    "sample_weights = compute_sample_weight (class_weight = 'balanced', y= y_train_adj)\n",
    "model= XGBClassifier ( \n",
    "    objective='mutli:softmax',\n",
    "    num_class=5,\n",
    "    tree_method= 'hist',\n",
    "    n_jobs=-1,\n",
    "    eval_metrics='mlogloss', random_state=42\n",
    ")\n",
    "from sklearn.model_selection import GridSearchCV\n",
    "from sklearn.metrics import accuracy_score\n",
    "grid = GridSearchCV (model, param_grid, cv=10, scoring='accuracy', verbose=1, n_jobs=-1)\n",
    "grid.fit (X_train_trf, y_train_adj, sample_weight = sample_weights)\n",
    "print ('Best Parameters',grid.best_params_)\n",
    "print ('Best Accuracy',grid.best_score_)\n",
    "print ('='*40)\n",
    "print ('Task Done')\n",
    "    "
   ]
  },
  {
   "cell_type": "code",
   "execution_count": 63,
   "id": "1514e585-ad6c-4c40-b04d-0001c75c1cca",
   "metadata": {},
   "outputs": [
    {
     "name": "stdout",
     "output_type": "stream",
     "text": [
      "========================================\n",
      "XGBOOST Training Started\n"
     ]
    },
    {
     "name": "stderr",
     "output_type": "stream",
     "text": [
      "C:\\Users\\HP\\AppData\\Local\\Packages\\PythonSoftwareFoundation.Python.3.11_qbz5n2kfra8p0\\LocalCache\\local-packages\\Python311\\site-packages\\xgboost\\training.py:183: UserWarning: [01:09:52] WARNING: C:\\actions-runner\\_work\\xgboost\\xgboost\\src\\learner.cc:738: \n",
      "Parameters: { \"eval_metrics\", \"reg_lamda\" } are not used.\n",
      "\n",
      "  bst.update(dtrain, iteration=i, fobj=obj)\n"
     ]
    },
    {
     "name": "stdout",
     "output_type": "stream",
     "text": [
      "Accuracy: 0.4725\n",
      "Precision: 0.4598\n",
      "Recall: 0.4725\n",
      "F1 Score: 0.4657\n",
      "========================================\n",
      "Task Done\n"
     ]
    }
   ],
   "source": [
    "print ('='*40)\n",
    "print ('XGBOOST Training Started')\n",
    "xgb= grid.best_estimator_\n",
    "xgb.fit (X_train_trf, y_train_adj)\n",
    "y_pred= xgb.predict (X_test_trf)\n",
    "from sklearn.metrics import precision_score, f1_score, recall_score\n",
    "accuracy = accuracy_score(y_test_adj, y_pred)\n",
    "precision = precision_score(y_test_adj, y_pred, average= 'weighted')   # or 'micro', 'weighted'\n",
    "recall = recall_score(y_test_adj, y_pred, average= 'weighted')\n",
    "f1 = f1_score(y_test_adj, y_pred, average= 'weighted')\n",
    "print(f\"Accuracy: {accuracy:.4f}\")\n",
    "print(f\"Precision: {precision:.4f}\")\n",
    "print(f\"Recall: {recall:.4f}\")\n",
    "print(f\"F1 Score: {f1:.4f}\")\n",
    "\n",
    "print ('='*40)\n",
    "print ('Task Done')"
   ]
  },
  {
   "cell_type": "code",
   "execution_count": 67,
   "id": "9dd72086-ce34-4f4d-883f-91947cb8ecd3",
   "metadata": {},
   "outputs": [
    {
     "name": "stdout",
     "output_type": "stream",
     "text": [
      "========================================\n",
      "Random Forest Model Traning Started\n",
      "Fitting 10 folds for each of 54 candidates, totalling 540 fits\n"
     ]
    },
    {
     "name": "stderr",
     "output_type": "stream",
     "text": [
      "C:\\Users\\HP\\AppData\\Local\\Packages\\PythonSoftwareFoundation.Python.3.11_qbz5n2kfra8p0\\LocalCache\\local-packages\\Python311\\site-packages\\sklearn\\model_selection\\_split.py:776: UserWarning: The least populated class in y has only 2 members, which is less than n_splits=10.\n",
      "  warnings.warn(\n"
     ]
    },
    {
     "name": "stdout",
     "output_type": "stream",
     "text": [
      "Best_Parameters {'bootstrap': False, 'max_depth': 20, 'min_samples_split': 5, 'n_estimators': 100}\n",
      "Best Accuracy 0.53\n",
      "========================================\n",
      "Task Done\n",
      "========================================\n",
      " Random Forest Training Started\n",
      "Accuracy: 0.4925\n",
      "Precision: 0.4888\n",
      "Recall: 0.4925\n",
      "F1 Score: 0.4895\n",
      "========================================\n",
      "Task Done\n"
     ]
    }
   ],
   "source": [
    "print ('='*40)\n",
    "print ('Random Forest Model Traning Started')\n",
    "from sklearn.ensemble import RandomForestClassifier\n",
    "rf= RandomForestClassifier(class_weight= 'balanced', n_jobs=-1, random_state=42)\n",
    "param_grid = {\n",
    "    'n_estimators': [25,50, 100],\n",
    "    'max_depth': [None, 10, 20],\n",
    "    'min_samples_split': [ 5,10,15],\n",
    "    'bootstrap':[True, False]\n",
    "}\n",
    "grid= GridSearchCV (RandomForestClassifier (class_weight= 'balanced', n_jobs=-1), param_grid, cv=10, scoring='accuracy',verbose=1, n_jobs=-1)\n",
    "grid.fit (X_train_trf, y_train_adj)\n",
    "print ('Best_Parameters', grid.best_params_)\n",
    "print ('Best Accuracy', grid.best_score_)\n",
    "print ('='*40)\n",
    "print ('Task Done')\n",
    "\n",
    "print ('='*40)\n",
    "print (' Random Forest Training Started')\n",
    "rf= grid.best_estimator_\n",
    "rf.fit (X_train_trf, y_train_adj)\n",
    "y_pred= rf.predict (X_test_trf)\n",
    "from sklearn.metrics import precision_score, f1_score, recall_score\n",
    "accuracy = accuracy_score(y_test_adj, y_pred)\n",
    "precision = precision_score(y_test_adj, y_pred, average= 'weighted')   # or 'micro', 'weighted'\n",
    "recall = recall_score(y_test_adj, y_pred, average= 'weighted')\n",
    "f1 = f1_score(y_test_adj, y_pred, average= 'weighted')\n",
    "print(f\"Accuracy: {accuracy:.4f}\")\n",
    "print(f\"Precision: {precision:.4f}\")\n",
    "print(f\"Recall: {recall:.4f}\")\n",
    "print(f\"F1 Score: {f1:.4f}\")\n",
    "\n",
    "print ('='*40)\n",
    "print ('Task Done')"
   ]
  },
  {
   "cell_type": "code",
   "execution_count": 71,
   "id": "dc6bd1f5-39fc-43dd-a9ba-71b2d6e77489",
   "metadata": {
    "scrolled": true
   },
   "outputs": [
    {
     "data": {
      "image/png": "[encoded data removed]",
      "text/plain": [
       "<Figure size 1000x800 with 1 Axes>"
      ]
     },
     "metadata": {},
     "output_type": "display_data"
    }
   ],
   "source": [
    "# import matplotlib.pyplot as plt\n",
    "# import numpy as np\n",
    "\n",
    "# # Feature importance from XGBoost\n",
    "# feature_names = X_train.columns\n",
    "# importance = rf.feature_importances_\n",
    "\n",
    "# # Plot\n",
    "# fig, ax = plt.subplots(figsize=(8, 6))\n",
    "# x = np.arange(len(feature_names))\n",
    "# ax.barh(x, importance, color='steelblue')\n",
    "\n",
    "# ax.set_yticks(x)\n",
    "# ax.set_yticklabels(feature_names)\n",
    "# ax.set_xlabel('Feature Importance')\n",
    "# plt.tight_layout()\n",
    "# plt.savefig('feature_importance_rf.png', dpi=300, bbox_inches='tight')\n",
    "# plt.show()\n",
    "import matplotlib.pyplot as plt\n",
    "import numpy as np\n",
    "import seaborn as sns\n",
    "\n",
    "# Get feature importances from each model\n",
    "feature_names = X_train.columns\n",
    "importances = {\n",
    "    'XGBoost': xgb.feature_importances_,\n",
    "    'RF': rf.feature_importances_,\n",
    "}\n",
    "\n",
    "# Use seaborn color palette\n",
    "palette = sns.color_palette(\"Paired\", n_colors=len(importances))  # You can try \"Set1\", \"Paired\", \"Dark2\", etc.\n",
    "model_names = list(importances.keys())\n",
    "\n",
    "# Create comparison plot\n",
    "fig, ax = plt.subplots(figsize=(10, 8))\n",
    "x = np.arange(len(feature_names))\n",
    "width = 0.25\n",
    "\n",
    "for i, (name, importance) in enumerate(importances.items()):\n",
    "    ax.barh(x + i*width, importance, width, label=name, color=palette[i])\n",
    "\n",
    "ax.set_yticks(x + width / 2)\n",
    "ax.set_yticklabels(feature_names)\n",
    "ax.set_xlabel('Feature Importance')\n",
    "ax.legend()\n",
    "plt.tight_layout()\n",
    "plt.savefig('feature_importance_both1.png', dpi=300, bbox_inches='tight')\n",
    "plt.show()"
   ]
  },
  {
   "cell_type": "code",
   "execution_count": 34,
   "id": "9173fa98-c591-4828-bfc4-ef6ae6c0481e",
   "metadata": {},
   "outputs": [
    {
     "data": {
      "text/plain": [
       "Index(['Bus Route', 'Gender', 'Age', 'Duration', 'Tangibility_Q1_P',\n",
       "       'Tangibility_Q1_E', 'Tangibility_Q2_P', 'Tangibility_Q2_E',\n",
       "       'Tangibility_Q3_P', 'Tangibility_Q3_E', 'Tangibility_Q4_P',\n",
       "       'Tangibility_Q4_E', 'Tangibility_Q5_P', 'Tangibility_Q5_E',\n",
       "       'Reliability_Q1_P', 'Reliability_Q1_E', 'Reliability_Q2_P',\n",
       "       'Reliability_Q2_E', 'Reliability_Q3_P', 'Reliability_Q3_E',\n",
       "       'Reliability_Q4_P', 'Reliability_Q4_E', 'Reliability_Q5_P',\n",
       "       'Reliability_Q5_E', 'Reliability_Q6_P', 'Reliability_Q6_E',\n",
       "       'Responsiveness_Q4_P', 'Responsiveness_Q4_E', 'Responsiveness_Q1_P',\n",
       "       'Responsiveness_Q1_E', 'Responsiveness_Q2_P', 'Responsiveness_Q2_E',\n",
       "       'Responsiveness_Q3_P', 'Responsiveness_Q3_E', 'Assurance_Q1_P',\n",
       "       'Assurance_Q1_E', 'Assurance_Q2_P', 'Assurance_Q2_E', 'Assurance_Q3_P',\n",
       "       'Assurance_Q3_E', 'Assurance_Q4_P', 'Assurance_Q4_E', 'Empathy_Q1_P',\n",
       "       'Empathy_Q1_E', 'Empathy_Q2_P', 'Empathy_Q2_E', 'Empathy_Q3_P',\n",
       "       'Empathy_Q3_E', 'Empathy_Q4_P', 'Empathy_Q4_E', 'Empathy_Q5_P',\n",
       "       'Empathy_Q5_E', 'Satisfaction', 'Gap_Mean', 'Age_Label', 'Route_Code',\n",
       "       'Tangibility_Mean', 'Reliability_Mean', 'Responsiveness_Mean',\n",
       "       'Assurance_Mean', 'Empathy_Mean', 'Tangibility_Deviation',\n",
       "       'Reliability_Deviation', 'Responsiveness_Deviation',\n",
       "       'Assurance_Deviation', 'Empathy_Deviation'],\n",
       "      dtype='object')"
      ]
     },
     "execution_count": 34,
     "metadata": {},
     "output_type": "execute_result"
    }
   ],
   "source": [
    "df.columns"
   ]
  },
  {
   "cell_type": "code",
   "execution_count": 36,
   "id": "9b780199-3759-4150-8d87-ed124964bfd8",
   "metadata": {
    "scrolled": true
   },
   "outputs": [
    {
     "name": "stderr",
     "output_type": "stream",
     "text": [
      "C:\\Users\\HP\\AppData\\Local\\Temp\\ipykernel_9764\\3919450201.py:15: FutureWarning: \n",
      "\n",
      "Passing `palette` without assigning `hue` is deprecated and will be removed in v0.14.0. Assign the `x` variable to `hue` and set `legend=False` for the same effect.\n",
      "\n",
      "  sns.barplot(x='Route_Code', y='Gap_Mean', data=df, palette='Blues')\n"
     ]
    },
    {
     "data": {
      "image/png": "[encoded data removed]",
      "text/plain": [
       "<Figure size 640x480 with 1 Axes>"
      ]
     },
     "metadata": {},
     "output_type": "display_data"
    }
   ],
   "source": [
    "road_codes = {\n",
    "    'Abdullahpur to Farmgate': 'R1',\n",
    "    'Jatrabari to Abdullahpur': 'R2',\n",
    "    'Motijheel to Farmgate': 'R3',\n",
    "    'Mirpur-12 to Farmgate': 'R4',\n",
    "    'Gabtoli to Farmgate': 'R5'\n",
    "}\n",
    "def encode_multiple_roads(route_str):\n",
    "    roads = [r.strip() for r in route_str.split(',')]\n",
    "    codes = [road_codes.get(r, r) for r in roads]\n",
    "    return ','.join(sorted(set(codes)))  # sorted & deduplicated\n",
    "df['Route_Code'] = df['Bus Route'].apply(encode_multiple_roads)\n",
    "\n",
    "\n",
    "sns.barplot(x='Route_Code', y='Gap_Mean', data=df, palette='Blues')\n",
    "plt.xlabel('Route')\n",
    "plt.ylabel('Gap Score')\n",
    "plt.xticks(rotation=90) \n",
    "plt.savefig('bar_plot.png', dpi=300, bbox_inches='tight')# or use shorter route codes"
   ]
  },
  {
   "cell_type": "code",
   "execution_count": 37,
   "id": "ad0e075e-1ee6-4a26-9efa-ab15666d496a",
   "metadata": {
    "scrolled": true
   },
   "outputs": [
    {
     "data": {
      "image/png": "[encoded data removed]",
      "text/plain": [
       "<Figure size 600x400 with 1 Axes>"
      ]
     },
     "metadata": {},
     "output_type": "display_data"
    }
   ],
   "source": [
    "import pandas as pd\n",
    "import seaborn as sns\n",
    "import matplotlib.pyplot as plt\n",
    "from scipy.stats import ttest_rel\n",
    "\n",
    "items = [col[:-2] for col in df.columns if col.endswith(\"_P\")]\n",
    "gap_means = []\n",
    "\n",
    "for item in items:\n",
    "    try:\n",
    "        p = df[f\"{item}_P\"]\n",
    "        e = df[f\"{item}_E\"]\n",
    "        gap = p - e\n",
    "        gap_means.append({\n",
    "            \"Dimension\": item.split(\"_\")[0],\n",
    "            \"Code\": item,\n",
    "            \"Gap_Mean\": round(gap.mean(), 3)\n",
    "        })\n",
    "    except Exception as ex:\n",
    "        print(f\"Error with {item}: {ex}\")\n",
    "\n",
    "# Convert results list to DataFrame\n",
    "\n",
    "# Plot histogram of Gap Means\n",
    "plt.figure(figsize=(6, 4))\n",
    "sns.histplot(df['Gap_Mean'], bins=10, kde=True, color='steelblue')\n",
    "plt.grid (False)\n",
    "# plt.title('Distribution of Gap Scores Across SERVQUAL Items')\n",
    "plt.xlabel('Gap Score')\n",
    "plt.ylabel('Frequency')\n",
    "plt.axvline(0, color='red', linestyle='--', label='Zero Gap')\n",
    "plt.legend()\n",
    "plt.tight_layout()\n",
    "plt.savefig('histogram.png', dpi=300, bbox_inches='tight')\n",
    "plt.show()"
   ]
  },
  {
   "cell_type": "code",
   "execution_count": 38,
   "id": "607170a7-6ff3-4510-a590-6c526cee0173",
   "metadata": {
    "scrolled": true
   },
   "outputs": [
    {
     "name": "stderr",
     "output_type": "stream",
     "text": [
      "C:\\Users\\HP\\AppData\\Local\\Temp\\ipykernel_9764\\3811050667.py:46: FutureWarning: \n",
      "\n",
      "Passing `palette` without assigning `hue` is deprecated and will be removed in v0.14.0. Assign the `x` variable to `hue` and set `legend=False` for the same effect.\n",
      "\n",
      "  sns.violinplot(x='Age_Label', y='Gap_Mean', data=df, palette='Blues')\n"
     ]
    },
    {
     "data": {
      "image/png": "[encoded data removed]",
      "text/plain": [
       "<Figure size 800x600 with 1 Axes>"
      ]
     },
     "metadata": {},
     "output_type": "display_data"
    }
   ],
   "source": [
    "import pandas as pd\n",
    "import seaborn as sns\n",
    "import matplotlib.pyplot as plt\n",
    "\n",
    "# Define SERVQUAL dimensions and items\n",
    "dimensions = {\n",
    "    'Tangibility': ['Q1', 'Q2', 'Q3', 'Q4', 'Q5'],\n",
    "    'Reliability': ['Q1', 'Q2', 'Q3', 'Q4', 'Q5', 'Q6'],\n",
    "    'Responsiveness': ['Q1', 'Q2', 'Q3', 'Q4'],\n",
    "    'Assurance': ['Q1', 'Q2', 'Q3', 'Q4'],\n",
    "    'Empathy': ['Q1', 'Q2', 'Q3', 'Q4', 'Q5']\n",
    "}\n",
    "\n",
    "def get_items(dimension, suffix):\n",
    "    return [f\"{dimension}_{q}_{suffix}\" for q in dimensions[dimension]]\n",
    "\n",
    "# Step 1: Collect all perception and expectation items\n",
    "all_p_items = []\n",
    "all_e_items = []\n",
    "\n",
    "for dim in dimensions:\n",
    "    all_p_items.extend(get_items(dim, 'P'))\n",
    "    all_e_items.extend(get_items(dim, 'E'))\n",
    "\n",
    "# Step 2: Calculate respondent-level gap scores\n",
    "df['Gap_Mean'] = df[all_p_items].mean(axis=1) - df[all_e_items].mean(axis=1)\n",
    "\n",
    "# # Step 3: Map age codes to readable labels\n",
    "# age_labels = {\n",
    "#     0: '10–24',\n",
    "#     1: '25–39',\n",
    "#     2: '40–59',\n",
    "#     3: '60+'\n",
    "# } \n",
    "# df['Age_Label'] = df['Age'].map(age_labels)\n",
    "\n",
    "df['Age_Label'] = df['Age'].replace({\n",
    "    '10 to 24 Year': '10–24 Years',\n",
    "    '25 to 39 Year': '25–39 Years',\n",
    "    '40 to 59 Year': '40–59 Years',\n",
    "    'more than 60 Year': '60+ Years'\n",
    "})\n",
    "\n",
    "# Step 4: Plot violin plot\n",
    "plt.figure(figsize=(8,6))\n",
    "sns.violinplot(x='Age_Label', y='Gap_Mean', data=df, palette='Blues')\n",
    "\n",
    "# plt.title('Distribution of Gap Scores Across Age Groups')\n",
    "plt.xlabel('Age Group')\n",
    "plt.ylabel('Gap Score')\n",
    "plt.axhline(0, color='red', linestyle='--', label='Zero Gap')\n",
    "plt.legend()\n",
    "plt.tight_layout()\n",
    "plt.savefig('violin_plot.png', dpi=300, bbox_inches='tight')\n",
    "plt.show()"
   ]
  },
  {
   "cell_type": "code",
   "execution_count": 132,
   "id": "549f40e5-4865-4c86-b3b8-3600fedd1ea4",
   "metadata": {},
   "outputs": [
    {
     "data": {
      "text/plain": [
       "Age\n",
       "10 to 24 Years        305\n",
       "25-39 Years           161\n",
       "40 to 59 Year          28\n",
       "more than 60 Years      6\n",
       "Name: count, dtype: int64"
      ]
     },
     "execution_count": 132,
     "metadata": {},
     "output_type": "execute_result"
    }
   ],
   "source": [
    "df['Age'].value_counts()"
   ]
  },
  {
   "cell_type": "code",
   "execution_count": 75,
   "id": "98a37af3-ab39-4f4a-9e11-ae19dc0558ce",
   "metadata": {},
   "outputs": [
    {
     "name": "stdout",
     "output_type": "stream",
     "text": [
      "Characteristic                Category  Percentage of total responses (%)\n",
      "        Gender                       1                               80.8\n",
      "        Gender                       2                               19.2\n",
      "           Age          10 to 24 Years                               61.0\n",
      "           Age             25-39 Years                               32.2\n",
      "           Age           40 to 59 Year                                5.6\n",
      "           Age      more than 60 Years                                1.2\n",
      "      Duration            Over 2 years                               76.0\n",
      "      Duration  From 1 year to 2 years                               10.4\n",
      "      Duration          Under 6 months                                8.8\n",
      "      Duration From 6 months to 1 year                                4.8\n"
     ]
    }
   ],
   "source": [
    "selected_df = df[['Age', 'Gender', 'Duration']]\n",
    "\n",
    "\n",
    "def summarize_column(df, column_name):\n",
    "    counts = df[column_name].value_counts(normalize=True) * 100\n",
    "    return pd.DataFrame({\n",
    "        'Characteristic': column_name,\n",
    "        'Category': counts.index,\n",
    "        'Percentage of total responses (%)': counts.round(2)\n",
    "    })\n",
    "\n",
    "# Generate summaries\n",
    "age_summary = summarize_column(selected_df, 'Age')\n",
    "gender_summary = summarize_column(selected_df, 'Gender')\n",
    "duration_summary = summarize_column(selected_df, 'Duration')\n",
    "\n",
    "# Combine all\n",
    "summary_table = pd.concat([gender_summary, age_summary, duration_summary], ignore_index=True)\n",
    "\n",
    "summary_table.to_csv('socioeconomic_summary.csv', index=False)\n",
    "print(summary_table.to_string(index=False))"
   ]
  },
  {
   "cell_type": "code",
   "execution_count": null,
   "id": "06af2312-ec13-4783-bdec-566811e6c291",
   "metadata": {},
   "outputs": [],
   "source": []
  },
  {
   "cell_type": "code",
   "execution_count": null,
   "id": "4cc60f35-89e8-4bb8-94ab-ab64598009ae",
   "metadata": {},
   "outputs": [],
   "source": []
  }
 ],
 "metadata": {
  "kernelspec": {
   "display_name": "Python 3 (ipykernel)",
   "language": "python",
   "name": "python3"
  },
  "language_info": {
   "codemirror_mode": {
    "name": "ipython",
    "version": 3
   },
   "file_extension": ".py",
   "mimetype": "text/x-python",
   "name": "python",
   "nbconvert_exporter": "python",
   "pygments_lexer": "ipython3",
   "version": "3.11.9"
  }
 },
 "nbformat": 4,
 "nbformat_minor": 5
}
