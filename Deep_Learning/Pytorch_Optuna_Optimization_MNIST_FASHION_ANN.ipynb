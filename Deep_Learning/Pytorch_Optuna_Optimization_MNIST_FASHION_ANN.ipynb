{
  "nbformat": 4,
  "nbformat_minor": 0,
  "metadata": {
    "colab": {
      "provenance": [],
      "gpuType": "T4"
    },
    "kernelspec": {
      "name": "python3",
      "display_name": "Python 3"
    },
    "language_info": {
      "name": "python"
    },
    "accelerator": "GPU"
  },
  "cells": [
    {
      "cell_type": "code",
      "execution_count": 1,
      "metadata": {
        "colab": {
          "base_uri": "https://localhost:8080/"
        },
        "id": "zluP4JnkkGDP",
        "outputId": "b4572758-568e-4ad7-bdba-926e8dbcb2c0"
      },
      "outputs": [
        {
          "output_type": "stream",
          "name": "stdout",
          "text": [
            "Collecting opendatasets\n",
            "  Downloading opendatasets-0.1.22-py3-none-any.whl.metadata (9.2 kB)\n",
            "Requirement already satisfied: tqdm in /usr/local/lib/python3.12/dist-packages (from opendatasets) (4.67.1)\n",
            "Requirement already satisfied: kaggle in /usr/local/lib/python3.12/dist-packages (from opendatasets) (1.7.4.5)\n",
            "Requirement already satisfied: click in /usr/local/lib/python3.12/dist-packages (from opendatasets) (8.2.1)\n",
            "Requirement already satisfied: bleach in /usr/local/lib/python3.12/dist-packages (from kaggle->opendatasets) (6.2.0)\n",
            "Requirement already satisfied: certifi>=14.05.14 in /usr/local/lib/python3.12/dist-packages (from kaggle->opendatasets) (2025.8.3)\n",
            "Requirement already satisfied: charset-normalizer in /usr/local/lib/python3.12/dist-packages (from kaggle->opendatasets) (3.4.3)\n",
            "Requirement already satisfied: idna in /usr/local/lib/python3.12/dist-packages (from kaggle->opendatasets) (3.10)\n",
            "Requirement already satisfied: protobuf in /usr/local/lib/python3.12/dist-packages (from kaggle->opendatasets) (5.29.5)\n",
            "Requirement already satisfied: python-dateutil>=2.5.3 in /usr/local/lib/python3.12/dist-packages (from kaggle->opendatasets) (2.9.0.post0)\n",
            "Requirement already satisfied: python-slugify in /usr/local/lib/python3.12/dist-packages (from kaggle->opendatasets) (8.0.4)\n",
            "Requirement already satisfied: requests in /usr/local/lib/python3.12/dist-packages (from kaggle->opendatasets) (2.32.4)\n",
            "Requirement already satisfied: setuptools>=21.0.0 in /usr/local/lib/python3.12/dist-packages (from kaggle->opendatasets) (75.2.0)\n",
            "Requirement already satisfied: six>=1.10 in /usr/local/lib/python3.12/dist-packages (from kaggle->opendatasets) (1.17.0)\n",
            "Requirement already satisfied: text-unidecode in /usr/local/lib/python3.12/dist-packages (from kaggle->opendatasets) (1.3)\n",
            "Requirement already satisfied: urllib3>=1.15.1 in /usr/local/lib/python3.12/dist-packages (from kaggle->opendatasets) (2.5.0)\n",
            "Requirement already satisfied: webencodings in /usr/local/lib/python3.12/dist-packages (from kaggle->opendatasets) (0.5.1)\n",
            "Downloading opendatasets-0.1.22-py3-none-any.whl (15 kB)\n",
            "Installing collected packages: opendatasets\n",
            "Successfully installed opendatasets-0.1.22\n"
          ]
        }
      ],
      "source": [
        "!pip install opendatasets"
      ]
    },
    {
      "cell_type": "code",
      "source": [
        "if torch.cuda.is_available():\n",
        "  print ('cuda')\n",
        "  device= torch.device('cuda')\n",
        "else:\n",
        "  print ('cpu')\n",
        "  device= torch.device('cpu')\n"
      ],
      "metadata": {
        "colab": {
          "base_uri": "https://localhost:8080/"
        },
        "id": "1snDoO3wkbHS",
        "outputId": "3002d21a-6fe9-4c95-9fd3-9b773e4ba4ab"
      },
      "execution_count": 5,
      "outputs": [
        {
          "output_type": "stream",
          "name": "stdout",
          "text": [
            "cuda\n"
          ]
        }
      ]
    },
    {
      "cell_type": "code",
      "source": [
        "import opendatasets as od\n",
        "od.download ('https://www.kaggle.com/datasets/zalando-research/fashionmnist', data_dir= '/content/sample_data')"
      ],
      "metadata": {
        "colab": {
          "base_uri": "https://localhost:8080/"
        },
        "id": "pBmevryHkxU0",
        "outputId": "88b965d3-52dd-49a6-f603-5a8975ce4d9e"
      },
      "execution_count": 6,
      "outputs": [
        {
          "output_type": "stream",
          "name": "stdout",
          "text": [
            "Dataset URL: https://www.kaggle.com/datasets/zalando-research/fashionmnist\n",
            "Downloading fashionmnist.zip to /content/sample_data/fashionmnist\n"
          ]
        },
        {
          "output_type": "stream",
          "name": "stderr",
          "text": [
            "100%|██████████| 68.8M/68.8M [00:00<00:00, 1.14GB/s]"
          ]
        },
        {
          "output_type": "stream",
          "name": "stdout",
          "text": [
            "\n"
          ]
        },
        {
          "output_type": "stream",
          "name": "stderr",
          "text": [
            "\n"
          ]
        }
      ]
    },
    {
      "cell_type": "code",
      "source": [
        "import pandas as pd\n",
        "from sklearn.model_selection import train_test_split\n",
        "import torch\n",
        "from torch.utils.data import DataLoader, Dataset\n",
        "import torch.nn as nn\n",
        "import torch.optim as optim\n",
        "import numpy as np\n",
        "import matplotlib.pyplot as plt"
      ],
      "metadata": {
        "id": "DomFjz47k4sb"
      },
      "execution_count": 4,
      "outputs": []
    },
    {
      "cell_type": "code",
      "source": [
        "df= pd.read_csv ('/content/sample_data/fashionmnist/fashion-mnist_train.csv')"
      ],
      "metadata": {
        "id": "CjyW83nGk_yE"
      },
      "execution_count": 7,
      "outputs": []
    },
    {
      "cell_type": "code",
      "source": [
        "## 4*4 grid of images\n",
        "fig, axes = plt.subplots(nrows=4, ncols=4, figsize=(10,10))\n",
        "fig.suptitle ('Mnist Images')\n",
        "\n",
        "#plot 16 images\n",
        "for i, ax in enumerate(axes.flat):\n",
        "  ax.imshow(np.array(df.iloc[i,1:]).reshape(28,28))\n",
        "  ax.axis('off')\n",
        "  ax.set_title(f'Label, {df.iloc[i,0]}')\n",
        "plt.show()"
      ],
      "metadata": {
        "colab": {
          "base_uri": "https://localhost:8080/",
          "height": 907
        },
        "id": "ckH3hFNjlKAr",
        "outputId": "6504aa3e-89ea-45c1-97e1-d7a6caaaf5be"
      },
      "execution_count": 8,
      "outputs": [
        {
          "output_type": "display_data",
          "data": {
            "text/plain": [
              "<Figure size 1000x1000 with 16 Axes>"
            ],
            "image/png": "[encoded data removed]"
          },
          "metadata": {}
        }
      ]
    },
    {
      "cell_type": "code",
      "source": [
        "X_train= df.iloc[:,1:].values\n",
        "y_train= df.iloc[:,0].values\n",
        "X_train= X_train/255.0\n",
        "\n",
        "df2= pd.read_csv ('/content/sample_data/fashionmnist/fashion-mnist_test.csv')\n",
        "X_test= df2.iloc[:,1:].values\n",
        "y_test= df2.iloc[:,0].values\n",
        "X_test= X_test/255.0"
      ],
      "metadata": {
        "id": "BWJbtEJ8lNrq"
      },
      "execution_count": 9,
      "outputs": []
    },
    {
      "cell_type": "code",
      "source": [
        "## custom dataset\n",
        "class FashionDataset(Dataset):\n",
        "  def __init__ (self, features, labels):\n",
        "    self.features= torch.tensor ( features, dtype= torch.float32)\n",
        "    self.labels= torch.tensor (labels, dtype= torch.long)\n",
        "\n",
        "  def __len__ (self):\n",
        "    return len(self.features)\n",
        "\n",
        "  def __getitem__ (self, index):\n",
        "    return self.features[index], self.labels[index]"
      ],
      "metadata": {
        "id": "wS6wC90Alfyn"
      },
      "execution_count": 10,
      "outputs": []
    },
    {
      "cell_type": "code",
      "source": [
        "train_dataset= FashionDataset(X_train, y_train)\n",
        "test_dataset= FashionDataset(X_test, y_test)\n"
      ],
      "metadata": {
        "id": "fxZpxz5dloLP"
      },
      "execution_count": 11,
      "outputs": []
    },
    {
      "cell_type": "code",
      "source": [
        "class mnist (nn.Module):\n",
        "  def __init__ (self, input_dim, output_dim, hidden_layers_neurons, dropouts):\n",
        "    super().__init__()\n",
        "    layers=[]\n",
        "    current_input_dim= input_dim\n",
        "    for neurons_in_layer in hidden_layers_neurons:\n",
        "      layers.append (nn.Linear(current_input_dim, neurons_in_layer))\n",
        "      layers.append (nn.BatchNorm1d (neurons_in_layer))\n",
        "      layers.append (nn.ReLU())\n",
        "      layers.append (nn.Dropout(dropouts))\n",
        "      current_input_dim = neurons_in_layer\n",
        "    layers.append (nn.Linear(current_input_dim, output_dim))\n",
        "    self.model= nn.Sequential (*layers)\n",
        "\n",
        "  def forward (self, x):\n",
        "    return self.model (x)"
      ],
      "metadata": {
        "id": "_Kch54MOmDM6"
      },
      "execution_count": 28,
      "outputs": []
    },
    {
      "cell_type": "code",
      "source": [
        "#Objective function\n",
        "\n",
        "\n",
        "def objective (trial):\n",
        "\n",
        "  num_hidden_layers= trial.suggest_int( 'num_hidden_layers', 1,9)\n",
        "  # Suggest the number of neurons for each hidden layer\n",
        "  hidden_layers_neurons = [trial.suggest_int(f'neurons_layer_{i}', 8, 128, step=8) for i in range(num_hidden_layers)]\n",
        "\n",
        "  dropouts= trial.suggest_float ('dropouts', 0.1, 0.5)\n",
        "  epochs= trial.suggest_int ('epochs', 10,50, step=10)\n",
        "  learning_rate= trial.suggest_float ('learning_rate', 1e-5, 1e-1, log=True)\n",
        "  batch_size= trial.suggest_categorical ('batch_size', [32,64,128])\n",
        "  optimizer_name = trial.suggest_categorical ('optimizer', ['Adam', 'SGD', 'RMSprop'])\n",
        "  weight_decay = trial.suggest_float ('weight_decay', 1e-4,1e-2, log=True)\n",
        "\n",
        "  train_dataloader= DataLoader( train_dataset, batch_size=batch_size, shuffle= True, pin_memory= True)\n",
        "  test_dataloader = DataLoader (test_dataset, batch_size=batch_size, shuffle= False, pin_memory= True)\n",
        "\n",
        "\n",
        "  input_dim = 784\n",
        "  output_dim =10\n",
        "\n",
        "  # Pass the list of neuron counts to the mnist class\n",
        "  model= mnist (input_dim, output_dim, hidden_layers_neurons, dropouts)\n",
        "  model.to(device)\n",
        "\n",
        "  if optimizer_name == 'Adam':\n",
        "    optimizer = optim.Adam(model.parameters(), lr=learning_rate, weight_decay=weight_decay)\n",
        "  elif optimizer_name == 'SGD':\n",
        "    optimizer= optim.SGD(model.parameters (), lr= learning_rate, weight_decay = weight_decay)\n",
        "  else:\n",
        "    optimizer= optim.RMSprop(model.parameters(), lr=learning_rate, weight_decay=weight_decay)\n",
        "\n",
        "  criterion= nn.CrossEntropyLoss()\n",
        "\n",
        "  #training loop\n",
        "\n",
        "  for epoch in range(epochs):\n",
        "    model.train() # Set model to training mode\n",
        "    running_loss = 0.0\n",
        "    for batch_features, batch_labels in train_dataloader:\n",
        "      batch_features = batch_features.to(device)\n",
        "      batch_labels= batch_labels.to(device) # Corrected to device\n",
        "\n",
        "      #forward pass\n",
        "      outputs= model(batch_features)\n",
        "\n",
        "      #loss\n",
        "      loss= criterion(outputs, batch_labels)\n",
        "\n",
        "      #backward pass\n",
        "      optimizer.zero_grad() # Corrected from zero.grad()\n",
        "      loss.backward()\n",
        "\n",
        "      # update grads\n",
        "      optimizer.step()\n",
        "      running_loss += loss.item() * batch_features.size(0)\n",
        "    epoch_loss = running_loss / len(train_dataset)\n",
        "    # print(f\"Epoch {epoch+1}/{epochs}, Loss: {epoch_loss:.4f}\") # Optional: print epoch loss\n",
        "\n",
        "\n",
        "  model.eval()\n",
        "\n",
        "  ##evaluation\n",
        "  correct=0\n",
        "  total=0\n",
        "  with torch.no_grad(): # Add no_grad() for evaluation\n",
        "    for batch_features, batch_labels in test_dataloader: # Changed to test_dataloader\n",
        "      batch_features, batch_labels= batch_features.to(device), batch_labels.to(device)\n",
        "\n",
        "      outputs= model(batch_features)\n",
        "\n",
        "      _, predicted= torch.max(outputs.data,1)\n",
        "\n",
        "      total= total + batch_labels.shape[0] # Corrected from batch_labels,shape[0]\n",
        "\n",
        "      correct= correct + (predicted == batch_labels).sum().item() # Corrected from .items()\n",
        "\n",
        "  Accuracy = correct/total\n",
        "  print ('='*50)\n",
        "  print ('Model Succesfully created')\n",
        "  print ('='*50)\n",
        "  print ('Model Started')\n",
        "  return Accuracy\n",
        "  print (f'Accuracy: {Accuracy}')"
      ],
      "metadata": {
        "id": "SfH1y3JtqXsf"
      },
      "execution_count": 37,
      "outputs": []
    },
    {
      "cell_type": "code",
      "source": [
        "!pip install optuna"
      ],
      "metadata": {
        "colab": {
          "base_uri": "https://localhost:8080/"
        },
        "id": "u5CVQR331Wpu",
        "outputId": "8ef79662-f260-417a-863a-e6bdd04aea65"
      },
      "execution_count": 23,
      "outputs": [
        {
          "output_type": "stream",
          "name": "stdout",
          "text": [
            "Requirement already satisfied: optuna in /usr/local/lib/python3.12/dist-packages (4.5.0)\n",
            "Requirement already satisfied: alembic>=1.5.0 in /usr/local/lib/python3.12/dist-packages (from optuna) (1.16.4)\n",
            "Requirement already satisfied: colorlog in /usr/local/lib/python3.12/dist-packages (from optuna) (6.9.0)\n",
            "Requirement already satisfied: numpy in /usr/local/lib/python3.12/dist-packages (from optuna) (2.0.2)\n",
            "Requirement already satisfied: packaging>=20.0 in /usr/local/lib/python3.12/dist-packages (from optuna) (25.0)\n",
            "Requirement already satisfied: sqlalchemy>=1.4.2 in /usr/local/lib/python3.12/dist-packages (from optuna) (2.0.43)\n",
            "Requirement already satisfied: tqdm in /usr/local/lib/python3.12/dist-packages (from optuna) (4.67.1)\n",
            "Requirement already satisfied: PyYAML in /usr/local/lib/python3.12/dist-packages (from optuna) (6.0.2)\n",
            "Requirement already satisfied: Mako in /usr/lib/python3/dist-packages (from alembic>=1.5.0->optuna) (1.1.3)\n",
            "Requirement already satisfied: typing-extensions>=4.12 in /usr/local/lib/python3.12/dist-packages (from alembic>=1.5.0->optuna) (4.14.1)\n",
            "Requirement already satisfied: greenlet>=1 in /usr/local/lib/python3.12/dist-packages (from sqlalchemy>=1.4.2->optuna) (3.2.4)\n"
          ]
        }
      ]
    },
    {
      "cell_type": "code",
      "source": [
        "## Optuna Study Creation\n",
        "import optuna\n",
        "study= optuna.create_study (direction='maximize')\n",
        "study.optimize (objective, n_trials =4)"
      ],
      "metadata": {
        "colab": {
          "base_uri": "https://localhost:8080/"
        },
        "id": "4erly1tZ1aJt",
        "outputId": "22dc1f1d-af85-46d3-8e73-1692b163b786"
      },
      "execution_count": 38,
      "outputs": [
        {
          "output_type": "stream",
          "name": "stderr",
          "text": [
            "[I 2025-08-24 02:57:28,990] A new study created in memory with name: no-name-49a2f4f8-5952-4707-af98-7ff4b094270c\n",
            "[I 2025-08-24 03:00:13,508] Trial 0 finished with value: 0.1 and parameters: {'num_hidden_layers': 7, 'neurons_layer_0': 40, 'neurons_layer_1': 16, 'neurons_layer_2': 24, 'neurons_layer_3': 32, 'neurons_layer_4': 80, 'neurons_layer_5': 88, 'neurons_layer_6': 120, 'dropouts': 0.226513038367645, 'epochs': 30, 'learning_rate': 0.0579545956885719, 'batch_size': 64, 'optimizer': 'RMSprop', 'weight_decay': 0.003410413859684342}. Best is trial 0 with value: 0.1.\n"
          ]
        },
        {
          "output_type": "stream",
          "name": "stdout",
          "text": [
            "==================================================\n",
            "Model Succesfully created\n",
            "==================================================\n",
            "Model Started\n"
          ]
        },
        {
          "output_type": "stream",
          "name": "stderr",
          "text": [
            "[I 2025-08-24 03:02:13,543] Trial 1 finished with value: 0.8617 and parameters: {'num_hidden_layers': 5, 'neurons_layer_0': 96, 'neurons_layer_1': 40, 'neurons_layer_2': 64, 'neurons_layer_3': 112, 'neurons_layer_4': 104, 'dropouts': 0.3904248578601134, 'epochs': 40, 'learning_rate': 0.001794523824156612, 'batch_size': 128, 'optimizer': 'RMSprop', 'weight_decay': 0.00020584092469332643}. Best is trial 1 with value: 0.8617.\n"
          ]
        },
        {
          "output_type": "stream",
          "name": "stdout",
          "text": [
            "==================================================\n",
            "Model Succesfully created\n",
            "==================================================\n",
            "Model Started\n"
          ]
        },
        {
          "output_type": "stream",
          "name": "stderr",
          "text": [
            "[I 2025-08-24 03:05:28,760] Trial 2 finished with value: 0.5151 and parameters: {'num_hidden_layers': 9, 'neurons_layer_0': 64, 'neurons_layer_1': 48, 'neurons_layer_2': 64, 'neurons_layer_3': 56, 'neurons_layer_4': 16, 'neurons_layer_5': 104, 'neurons_layer_6': 88, 'neurons_layer_7': 88, 'neurons_layer_8': 96, 'dropouts': 0.3550551389740628, 'epochs': 50, 'learning_rate': 0.005570379414703264, 'batch_size': 128, 'optimizer': 'Adam', 'weight_decay': 0.007298988158136008}. Best is trial 1 with value: 0.8617.\n"
          ]
        },
        {
          "output_type": "stream",
          "name": "stdout",
          "text": [
            "==================================================\n",
            "Model Succesfully created\n",
            "==================================================\n",
            "Model Started\n"
          ]
        },
        {
          "output_type": "stream",
          "name": "stderr",
          "text": [
            "[I 2025-08-24 03:07:53,378] Trial 3 finished with value: 0.7892 and parameters: {'num_hidden_layers': 5, 'neurons_layer_0': 96, 'neurons_layer_1': 8, 'neurons_layer_2': 104, 'neurons_layer_3': 72, 'neurons_layer_4': 32, 'dropouts': 0.3503471559818837, 'epochs': 30, 'learning_rate': 0.00045203044243381937, 'batch_size': 64, 'optimizer': 'Adam', 'weight_decay': 0.00027640541438291895}. Best is trial 1 with value: 0.8617.\n"
          ]
        },
        {
          "output_type": "stream",
          "name": "stdout",
          "text": [
            "==================================================\n",
            "Model Succesfully created\n",
            "==================================================\n",
            "Model Started\n"
          ]
        }
      ]
    },
    {
      "cell_type": "code",
      "source": [
        "study.best_value"
      ],
      "metadata": {
        "colab": {
          "base_uri": "https://localhost:8080/"
        },
        "id": "Qbp6iFLg15dI",
        "outputId": "b4bb56f2-21d1-4661-f611-6ce32c55d105"
      },
      "execution_count": 39,
      "outputs": [
        {
          "output_type": "execute_result",
          "data": {
            "text/plain": [
              "0.8617"
            ]
          },
          "metadata": {},
          "execution_count": 39
        }
      ]
    },
    {
      "cell_type": "code",
      "source": [
        "study.best_params"
      ],
      "metadata": {
        "colab": {
          "base_uri": "https://localhost:8080/"
        },
        "id": "g_5-9Vsg19e8",
        "outputId": "660240bb-8196-4c06-a159-18d3935b8cf5"
      },
      "execution_count": 40,
      "outputs": [
        {
          "output_type": "execute_result",
          "data": {
            "text/plain": [
              "{'num_hidden_layers': 5,\n",
              " 'neurons_layer_0': 96,\n",
              " 'neurons_layer_1': 40,\n",
              " 'neurons_layer_2': 64,\n",
              " 'neurons_layer_3': 112,\n",
              " 'neurons_layer_4': 104,\n",
              " 'dropouts': 0.3904248578601134,\n",
              " 'epochs': 40,\n",
              " 'learning_rate': 0.001794523824156612,\n",
              " 'batch_size': 128,\n",
              " 'optimizer': 'RMSprop',\n",
              " 'weight_decay': 0.00020584092469332643}"
            ]
          },
          "metadata": {},
          "execution_count": 40
        }
      ]
    },
    {
      "cell_type": "code",
      "source": [],
      "metadata": {
        "id": "ZqUKLR6ZDCjH"
      },
      "execution_count": null,
      "outputs": []
    }
  ]
}