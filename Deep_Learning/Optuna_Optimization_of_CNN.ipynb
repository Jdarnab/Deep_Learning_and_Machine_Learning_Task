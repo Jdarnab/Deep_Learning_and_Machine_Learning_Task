{
  "cells": [
    {
      "cell_type": "code",
      "execution_count": 2,
      "metadata": {
        "id": "fpmFi71HHSFG"
      },
      "outputs": [],
      "source": [
        "import pandas as pd\n",
        "from sklearn.model_selection import train_test_split\n",
        "import torch\n",
        "import torch.nn as nn\n",
        "import torch.optim as optim\n",
        "import matplotlib.pyplot as plt"
      ]
    },
    {
      "cell_type": "code",
      "execution_count": 3,
      "metadata": {
        "colab": {
          "base_uri": "https://localhost:8080/"
        },
        "id": "a6oXAK-uarMa",
        "outputId": "973cf997-23b5-441f-f80b-b047f8179bca"
      },
      "outputs": [
        {
          "output_type": "stream",
          "name": "stdout",
          "text": [
            "Collecting opendatasets\n",
            "  Downloading opendatasets-0.1.22-py3-none-any.whl.metadata (9.2 kB)\n",
            "Requirement already satisfied: tqdm in /usr/local/lib/python3.12/dist-packages (from opendatasets) (4.67.1)\n",
            "Requirement already satisfied: kaggle in /usr/local/lib/python3.12/dist-packages (from opendatasets) (1.7.4.5)\n",
            "Requirement already satisfied: click in /usr/local/lib/python3.12/dist-packages (from opendatasets) (8.2.1)\n",
            "Requirement already satisfied: bleach in /usr/local/lib/python3.12/dist-packages (from kaggle->opendatasets) (6.2.0)\n",
            "Requirement already satisfied: certifi>=14.05.14 in /usr/local/lib/python3.12/dist-packages (from kaggle->opendatasets) (2025.8.3)\n",
            "Requirement already satisfied: charset-normalizer in /usr/local/lib/python3.12/dist-packages (from kaggle->opendatasets) (3.4.3)\n",
            "Requirement already satisfied: idna in /usr/local/lib/python3.12/dist-packages (from kaggle->opendatasets) (3.10)\n",
            "Requirement already satisfied: protobuf in /usr/local/lib/python3.12/dist-packages (from kaggle->opendatasets) (5.29.5)\n",
            "Requirement already satisfied: python-dateutil>=2.5.3 in /usr/local/lib/python3.12/dist-packages (from kaggle->opendatasets) (2.9.0.post0)\n",
            "Requirement already satisfied: python-slugify in /usr/local/lib/python3.12/dist-packages (from kaggle->opendatasets) (8.0.4)\n",
            "Requirement already satisfied: requests in /usr/local/lib/python3.12/dist-packages (from kaggle->opendatasets) (2.32.4)\n",
            "Requirement already satisfied: setuptools>=21.0.0 in /usr/local/lib/python3.12/dist-packages (from kaggle->opendatasets) (75.2.0)\n",
            "Requirement already satisfied: six>=1.10 in /usr/local/lib/python3.12/dist-packages (from kaggle->opendatasets) (1.17.0)\n",
            "Requirement already satisfied: text-unidecode in /usr/local/lib/python3.12/dist-packages (from kaggle->opendatasets) (1.3)\n",
            "Requirement already satisfied: urllib3>=1.15.1 in /usr/local/lib/python3.12/dist-packages (from kaggle->opendatasets) (2.5.0)\n",
            "Requirement already satisfied: webencodings in /usr/local/lib/python3.12/dist-packages (from kaggle->opendatasets) (0.5.1)\n",
            "Downloading opendatasets-0.1.22-py3-none-any.whl (15 kB)\n",
            "Installing collected packages: opendatasets\n",
            "Successfully installed opendatasets-0.1.22\n",
            "Dataset URL: https://www.kaggle.com/datasets/zalando-research/fashionmnist\n",
            "Downloading fashionmnist.zip to /content/sample_data/fashionmnist\n"
          ]
        },
        {
          "output_type": "stream",
          "name": "stderr",
          "text": [
            "100%|██████████| 68.8M/68.8M [00:00<00:00, 1.25GB/s]"
          ]
        },
        {
          "output_type": "stream",
          "name": "stdout",
          "text": [
            "\n"
          ]
        },
        {
          "output_type": "stream",
          "name": "stderr",
          "text": [
            "\n"
          ]
        }
      ],
      "source": [
        "!pip install opendatasets\n",
        "import opendatasets as od\n",
        "od.download ('https://www.kaggle.com/datasets/zalando-research/fashionmnist', data_dir= '/content/sample_data')"
      ]
    },
    {
      "cell_type": "code",
      "execution_count": 4,
      "metadata": {
        "colab": {
          "base_uri": "https://localhost:8080/"
        },
        "id": "xd_MUrMFIgrz",
        "outputId": "017193fb-cb3b-4935-d2c9-55d35079d524"
      },
      "outputs": [
        {
          "output_type": "execute_result",
          "data": {
            "text/plain": [
              "<torch._C.Generator at 0x7830a0fd3f90>"
            ]
          },
          "metadata": {},
          "execution_count": 4
        }
      ],
      "source": [
        "torch.manual_seed (42)"
      ]
    },
    {
      "cell_type": "code",
      "execution_count": 5,
      "metadata": {
        "colab": {
          "base_uri": "https://localhost:8080/"
        },
        "id": "rqrjQRELIrmk",
        "outputId": "469354a8-4798-4528-fa4b-6b1d943ec076"
      },
      "outputs": [
        {
          "output_type": "stream",
          "name": "stdout",
          "text": [
            "cuda\n"
          ]
        }
      ],
      "source": [
        "device= torch.device('cuda' if torch.cuda.is_available() else 'cpu')\n",
        "print (device)"
      ]
    },
    {
      "cell_type": "code",
      "execution_count": 6,
      "metadata": {
        "id": "_MlNBdKIIzlE"
      },
      "outputs": [],
      "source": [
        "df= pd.read_csv('/content/sample_data/fashionmnist/fashion-mnist_train.csv')"
      ]
    },
    {
      "cell_type": "code",
      "execution_count": 7,
      "metadata": {
        "colab": {
          "base_uri": "https://localhost:8080/",
          "height": 512
        },
        "id": "bRNHr0P8I4KL",
        "outputId": "a4dbf1a6-28e1-435d-99e6-b6a7cedd4d02"
      },
      "outputs": [
        {
          "output_type": "display_data",
          "data": {
            "text/plain": [
              "<Figure size 500x500 with 4 Axes>"
            ],
            "image/png": "[encoded data removed]"
          },
          "metadata": {}
        }
      ],
      "source": [
        "fig, axes= plt.subplots (2,2, figsize=(5,5))\n",
        "fig.suptitle ('First 4 Images')\n",
        "\n",
        "# Display the first image\n",
        "axes[0,0].imshow(df.iloc[0,1:].values.reshape(28,28))\n",
        "axes[0,0].set_title(f'Label: {df.iloc[0,0]}')\n",
        "\n",
        "# Display the second image\n",
        "axes[0,1].imshow(df.iloc[1,1:].values.reshape(28,28))\n",
        "axes[0,1].set_title(f'Label: {df.iloc[1,0]}')\n",
        "\n",
        "# Display the third image\n",
        "axes[1,0].imshow(df.iloc[2,1:].values.reshape(28,28))\n",
        "axes[1,0].set_title(f'Label: {df.iloc[2,0]}')\n",
        "\n",
        "# Display the fourth image\n",
        "axes[1,1].imshow(df.iloc[3,1:].values.reshape(28,28))\n",
        "axes[1,1].set_title(f'Label: {df.iloc[3,0]}')\n",
        "\n",
        "plt.tight_layout()\n",
        "plt.show()"
      ]
    },
    {
      "cell_type": "code",
      "execution_count": 8,
      "metadata": {
        "id": "8MiTgLr4KAAe"
      },
      "outputs": [],
      "source": [
        "# X_train, X_test, y_train, y_test= train_test_split(df.iloc[:,1:], df.iloc[:,0], test_size=0.2, random_state=42)\n",
        "X_train = pd.read_csv ('/content/sample_data/fashionmnist/fashion-mnist_train.csv')\n",
        "y_train = X_train.pop('label')\n",
        "X_test = pd.read_csv ('/content/sample_data/fashionmnist/fashion-mnist_test.csv')\n",
        "y_test = X_test.pop('label')\n",
        "X_train= X_train/255.0\n",
        "X_test= X_test/255.0"
      ]
    },
    {
      "cell_type": "code",
      "execution_count": 9,
      "metadata": {
        "colab": {
          "base_uri": "https://localhost:8080/",
          "height": 241
        },
        "id": "Dw9_eM1fcql6",
        "outputId": "4a6ebd78-c477-4600-af20-260b3bd78f78"
      },
      "outputs": [
        {
          "output_type": "execute_result",
          "data": {
            "text/plain": [
              "0    2\n",
              "1    9\n",
              "2    6\n",
              "3    0\n",
              "4    3\n",
              "Name: label, dtype: int64"
            ],
            "text/html": [
              "<div>\n",
              "<style scoped>\n",
              "    .dataframe tbody tr th:only-of-type {\n",
              "        vertical-align: middle;\n",
              "    }\n",
              "\n",
              "    .dataframe tbody tr th {\n",
              "        vertical-align: top;\n",
              "    }\n",
              "\n",
              "    .dataframe thead th {\n",
              "        text-align: right;\n",
              "    }\n",
              "</style>\n",
              "<table border=\"1\" class=\"dataframe\">\n",
              "  <thead>\n",
              "    <tr style=\"text-align: right;\">\n",
              "      <th></th>\n",
              "      <th>label</th>\n",
              "    </tr>\n",
              "  </thead>\n",
              "  <tbody>\n",
              "    <tr>\n",
              "      <th>0</th>\n",
              "      <td>2</td>\n",
              "    </tr>\n",
              "    <tr>\n",
              "      <th>1</th>\n",
              "      <td>9</td>\n",
              "    </tr>\n",
              "    <tr>\n",
              "      <th>2</th>\n",
              "      <td>6</td>\n",
              "    </tr>\n",
              "    <tr>\n",
              "      <th>3</th>\n",
              "      <td>0</td>\n",
              "    </tr>\n",
              "    <tr>\n",
              "      <th>4</th>\n",
              "      <td>3</td>\n",
              "    </tr>\n",
              "  </tbody>\n",
              "</table>\n",
              "</div><br><label><b>dtype:</b> int64</label>"
            ]
          },
          "metadata": {},
          "execution_count": 9
        }
      ],
      "source": [
        "y_train.head()"
      ]
    },
    {
      "cell_type": "code",
      "execution_count": 25,
      "metadata": {
        "id": "jwxvwrFlKYbY"
      },
      "outputs": [],
      "source": [
        "from torch.utils.data import Dataset, DataLoader\n",
        "import numpy as np\n",
        "\n",
        "class mnist (Dataset):\n",
        "  def __init__(self, features, labels):\n",
        "    #convert the data to pytorch tebnsors\n",
        "    self.features = torch.tensor(features.values, dtype= torch.float32).reshape(-1,1,28,28)\n",
        "    self.labels= torch.tensor (labels.values, dtype= torch.long)\n",
        "\n",
        "  def __len__(self):\n",
        "    return len(self.features)\n",
        "\n",
        "  def __getitem__ (self, index):\n",
        "    return self.features[index], self.labels[index]"
      ]
    },
    {
      "cell_type": "code",
      "execution_count": 26,
      "metadata": {
        "id": "tVmAPgPONbOV"
      },
      "outputs": [],
      "source": [
        "train_data= mnist(X_train, y_train)\n",
        "test_data= mnist(X_test, y_test)"
      ]
    },
    {
      "cell_type": "code",
      "execution_count": 27,
      "metadata": {
        "id": "cYCvz0SCNmpd"
      },
      "outputs": [],
      "source": [
        "train_loader= DataLoader (train_data, batch_size= 64, shuffle= True, pin_memory= True)\n",
        "test_loader = DataLoader (test_data, batch_size= 64, shuffle= False, pin_memory = True)"
      ]
    },
    {
      "cell_type": "code",
      "execution_count": null,
      "metadata": {
        "id": "IqXiWPruOQHp"
      },
      "outputs": [],
      "source": [
        "class CNN (nn.Module):\n",
        "  def __init__ (self, input_features):\n",
        "    super().__init__()\n",
        "\n",
        "    self.features= nn.Sequential (\n",
        "      nn.Conv2d (input_features, 32, kernel_size=3, padding='same'),\n",
        "      nn.ReLU(),\n",
        "      nn.BatchNorm2d (32),\n",
        "      nn.MaxPool2d (kernel_size=2, stride=2),\n",
        "\n",
        "\n",
        "      #another conv layer\n",
        "      nn.Conv2d (32, 64, kernel_size=3, padding='same'),\n",
        "      nn.ReLU(),\n",
        "      nn.BatchNorm2d (64),\n",
        "      nn.MaxPool2d (kernel_size=2, stride=2),\n",
        "\n",
        "      #another\n",
        "      nn.Conv2d(64,128, kernel_size=3, padding='same'),\n",
        "      nn.ReLU(),\n",
        "      nn.BatchNorm2d (128),\n",
        "      nn.MaxPool2d (kernel_size=2, stride=2),\n",
        "\n",
        "      #flatten\n",
        "      nn.Flatten ()\n",
        "    )\n",
        "    self.classifier= nn.Sequential (\n",
        "      nn.Linear ( 128*3*3, 128),\n",
        "      nn.ReLU(),\n",
        "      nn.BatchNorm1d (128),\n",
        "      nn.Dropout(0.3),\n",
        "\n",
        "      nn.Linear (128,64),\n",
        "      nn.ReLU(),\n",
        "      nn.BatchNorm1d (64),\n",
        "      nn.Dropout(0.4),\n",
        "\n",
        "      nn.Linear (64,10)\n",
        "    )\n",
        "  def forward (self,x):\n",
        "    x= self.features(x)\n",
        "    x= self.classifier(x)\n",
        "    return x"
      ]
    },
    {
      "cell_type": "code",
      "execution_count": 16,
      "metadata": {
        "id": "aZ4wFY0nT53p"
      },
      "outputs": [],
      "source": [
        "lr= 0.01\n",
        "epochs = 5"
      ]
    },
    {
      "cell_type": "code",
      "execution_count": null,
      "metadata": {
        "id": "nFQNO0zPT_3m"
      },
      "outputs": [],
      "source": [
        "model = CNN(1).to(device)\n",
        "criterion = nn.CrossEntropyLoss()\n",
        "optimizer = optim.Adam(model.parameters(), lr=lr,weight_decay= 1e-4 )"
      ]
    },
    {
      "cell_type": "code",
      "execution_count": null,
      "metadata": {
        "colab": {
          "base_uri": "https://localhost:8080/"
        },
        "id": "5pDN2lywU5NT",
        "outputId": "68ccfd18-d3e4-4579-bd41-b78ab404dfec"
      },
      "outputs": [
        {
          "name": "stdout",
          "output_type": "stream",
          "text": [
            "Epoch:0 Loss:0.4817857675905675\n",
            "Epoch:1 Loss:0.3982106527285789\n",
            "Epoch:2 Loss:0.3460238225646873\n",
            "Epoch:3 Loss:0.3346027662155471\n",
            "Epoch:4 Loss:0.3280967631176718\n"
          ]
        }
      ],
      "source": [
        "for epoch in range (epochs):\n",
        "  total_epoch_loss= 0\n",
        "  for batch_features, batch_labels in train_loader:\n",
        "    #moving to gpu\n",
        "    batch_features, batch_labels= batch_features.to(device), batch_labels.to(device)\n",
        "\n",
        "    #forward pass\n",
        "    output= model(batch_features)\n",
        "    #loss\n",
        "    loss= criterion(output, batch_labels)\n",
        "    #reverse pass\n",
        "    optimizer.zero_grad()\n",
        "    loss.backward()\n",
        "    #upgrading gradients\n",
        "    optimizer.step()\n",
        "\n",
        "    total_epoch_loss = total_epoch_loss + loss.item()\n",
        "  avg_loss = total_epoch_loss/len(train_loader)\n",
        "  print(f'Epoch:{epoch} Loss:{avg_loss}')\n"
      ]
    },
    {
      "cell_type": "code",
      "execution_count": null,
      "metadata": {
        "colab": {
          "base_uri": "https://localhost:8080/"
        },
        "id": "jAyHHaL-LZy4",
        "outputId": "1979a53a-238d-48cd-d999-5916b09879b0"
      },
      "outputs": [
        {
          "name": "stdout",
          "output_type": "stream",
          "text": [
            "Accuracy 0.908\n"
          ]
        }
      ],
      "source": [
        "model.eval()\n",
        "total= 0\n",
        "correct =0\n",
        "with torch.no_grad ():\n",
        "  for batch_features, batch_labels in test_loader:\n",
        "\n",
        "    #moving to gpu\n",
        "    batch_features, batch_labels = batch_features.to(device), batch_labels. to (device)\n",
        "\n",
        "    #forward\n",
        "    outputs= model (batch_features)\n",
        "    _, prediction = torch.max (outputs, 1)\n",
        "\n",
        "    # accuracy\n",
        "    total = total + batch_labels.shape [0]\n",
        "\n",
        "    correct = correct + (prediction==batch_labels).sum ().item ()\n",
        "\n",
        "    accuracy = correct/ total\n",
        "  print ('Accuracy',accuracy)"
      ]
    },
    {
      "cell_type": "code",
      "execution_count": null,
      "metadata": {
        "id": "2zAlCIPcfRZw"
      },
      "outputs": [],
      "source": []
    },
    {
      "cell_type": "markdown",
      "source": [
        "## Optuna Based Hypertuning"
      ],
      "metadata": {
        "id": "amTS-Fuyww3i"
      }
    },
    {
      "cell_type": "code",
      "metadata": {
        "colab": {
          "base_uri": "https://localhost:8080/"
        },
        "id": "7dae4555",
        "outputId": "6e106ecb-b193-40e4-e525-d7316ccaa3f5"
      },
      "source": [
        "!pip install optuna"
      ],
      "execution_count": 13,
      "outputs": [
        {
          "output_type": "stream",
          "name": "stdout",
          "text": [
            "Collecting optuna\n",
            "  Downloading optuna-4.5.0-py3-none-any.whl.metadata (17 kB)\n",
            "Requirement already satisfied: alembic>=1.5.0 in /usr/local/lib/python3.12/dist-packages (from optuna) (1.16.5)\n",
            "Collecting colorlog (from optuna)\n",
            "  Downloading colorlog-6.9.0-py3-none-any.whl.metadata (10 kB)\n",
            "Requirement already satisfied: numpy in /usr/local/lib/python3.12/dist-packages (from optuna) (2.0.2)\n",
            "Requirement already satisfied: packaging>=20.0 in /usr/local/lib/python3.12/dist-packages (from optuna) (25.0)\n",
            "Requirement already satisfied: sqlalchemy>=1.4.2 in /usr/local/lib/python3.12/dist-packages (from optuna) (2.0.43)\n",
            "Requirement already satisfied: tqdm in /usr/local/lib/python3.12/dist-packages (from optuna) (4.67.1)\n",
            "Requirement already satisfied: PyYAML in /usr/local/lib/python3.12/dist-packages (from optuna) (6.0.2)\n",
            "Requirement already satisfied: Mako in /usr/local/lib/python3.12/dist-packages (from alembic>=1.5.0->optuna) (1.3.10)\n",
            "Requirement already satisfied: typing-extensions>=4.12 in /usr/local/lib/python3.12/dist-packages (from alembic>=1.5.0->optuna) (4.15.0)\n",
            "Requirement already satisfied: greenlet>=1 in /usr/local/lib/python3.12/dist-packages (from sqlalchemy>=1.4.2->optuna) (3.2.4)\n",
            "Requirement already satisfied: MarkupSafe>=0.9.2 in /usr/local/lib/python3.12/dist-packages (from Mako->alembic>=1.5.0->optuna) (3.0.2)\n",
            "Downloading optuna-4.5.0-py3-none-any.whl (400 kB)\n",
            "\u001b[2K   \u001b[90m━━━━━━━━━━━━━━━━━━━━━━━━━━━━━━━━━━━━━━━━\u001b[0m \u001b[32m400.9/400.9 kB\u001b[0m \u001b[31m15.9 MB/s\u001b[0m eta \u001b[36m0:00:00\u001b[0m\n",
            "\u001b[?25hDownloading colorlog-6.9.0-py3-none-any.whl (11 kB)\n",
            "Installing collected packages: colorlog, optuna\n",
            "Successfully installed colorlog-6.9.0 optuna-4.5.0\n"
          ]
        }
      ]
    },
    {
      "cell_type": "code",
      "source": [],
      "metadata": {
        "id": "SOrzCEirjODb"
      },
      "execution_count": null,
      "outputs": []
    },
    {
      "cell_type": "code",
      "metadata": {
        "id": "9q_8Y9N9rV_Q"
      },
      "source": [
        "import optuna\n",
        "import torch.nn as nn\n",
        "import torch.optim as optim\n",
        "\n",
        "def objective(trial):\n",
        "    # Define hyperparameters to tune\n",
        "    lr = trial.suggest_float('lr', 1e-5, 1e-1, log=True)\n",
        "    optimizer_name = trial.suggest_categorical('optimizer', ['Adam', 'RMSprop', 'SGD'])\n",
        "    dropout_rate = trial.suggest_float('dropout_rate', 0.1, 0.5) # Single dropout rate for all hidden layers\n",
        "    weight_decay = trial.suggest_float('weight_decay', 1e-5, 1e-2, log=True)\n",
        "\n",
        "    # Tune the number of convolutional layers\n",
        "    n_conv_layers = trial.suggest_int('n_conv_layers', 1, 4)\n",
        "    conv_layers = []\n",
        "    in_channels = 1\n",
        "    for i in range(n_conv_layers):\n",
        "        out_channels = trial.suggest_int(f'conv_{i}_out_channels', 16, 128, step=16)\n",
        "        kernel_size = trial.suggest_int(f'conv_{i}_kernel_size', 3, 5, step=2)\n",
        "        conv_layers.append(nn.Conv2d(in_channels, out_channels, kernel_size=kernel_size, padding='same'))\n",
        "        conv_layers.append(nn.ReLU())\n",
        "        conv_layers.append(nn.BatchNorm2d(out_channels))\n",
        "        conv_layers.append(nn.MaxPool2d(kernel_size=2, stride=2))\n",
        "        in_channels = out_channels\n",
        "\n",
        "    # Calculate the size of the flattened layer\n",
        "    # We need to pass a dummy tensor through the conv layers to determine the size\n",
        "    dummy_input = torch.randn(1, 1, 28, 28)\n",
        "    dummy_conv_output = nn.Sequential(*conv_layers)(dummy_input)\n",
        "    flattened_size = dummy_conv_output.view(dummy_conv_output.size(0), -1).size(1)\n",
        "\n",
        "\n",
        "    # Tune the number of hidden layers and neurons\n",
        "    n_hidden_layers = trial.suggest_int('n_hidden_layers', 1, 5) # Increased range for hidden layers\n",
        "    hidden_layers = []\n",
        "    current_input_dim = flattened_size\n",
        "    for i in range(n_hidden_layers):\n",
        "        out_features = trial.suggest_int(f'hidden_{i}_out_features', 32, 256, step=32)\n",
        "        hidden_layers.append(nn.Linear(current_input_dim, out_features))\n",
        "        hidden_layers.append(nn.ReLU())\n",
        "        hidden_layers.append(nn.BatchNorm1d(out_features))\n",
        "        hidden_layers.append(nn.Dropout(dropout_rate)) # Use the single tunable dropout rate\n",
        "        current_input_dim = out_features\n",
        "\n",
        "    # Output layer\n",
        "    hidden_layers.append(nn.Linear(current_input_dim, 10))\n",
        "\n",
        "\n",
        "    # Build the model with suggested hyperparameters\n",
        "    class TunedCNN (nn.Module):\n",
        "        def __init__ (self, conv_layers, hidden_layers):\n",
        "            super().__init__()\n",
        "            self.features = nn.Sequential(*conv_layers)\n",
        "            self.classifier = nn.Sequential(*hidden_layers)\n",
        "\n",
        "        def forward (self,x):\n",
        "            x= self.features(x)\n",
        "            x= x.view(x.size(0), -1) # Flatten the output from convolutional layers\n",
        "            x= self.classifier(x)\n",
        "            return x\n",
        "\n",
        "    model = TunedCNN(conv_layers, hidden_layers).to(device)\n",
        "\n",
        "\n",
        "    # Define optimizer\n",
        "    if optimizer_name == 'Adam':\n",
        "        optimizer = optim.Adam(model.parameters(), lr=lr, weight_decay=weight_decay)\n",
        "    elif optimizer_name == 'RMSprop':\n",
        "        optimizer = optim.RMSprop(model.parameters(), lr=lr, weight_decay=weight_decay)\n",
        "    else:\n",
        "        optimizer = optim.SGD(model.parameters(), lr=lr, weight_decay=weight_decay)\n",
        "\n",
        "    criterion = nn.CrossEntropyLoss()\n",
        "\n",
        "    # Training loop (simplified for objective function)\n",
        "    epochs = 5 # Define epochs inside the objective function\n",
        "    model.train()\n",
        "    for epoch in range(epochs):\n",
        "        for batch_features, batch_labels in train_loader:\n",
        "            batch_features, batch_labels = batch_features.to(device), batch_labels.to(device)\n",
        "            optimizer.zero_grad()\n",
        "            outputs = model(batch_features)\n",
        "            loss = criterion(outputs, batch_labels)\n",
        "            loss.backward()\n",
        "            optimizer.step()\n",
        "\n",
        "    # Evaluation\n",
        "    model.eval()\n",
        "    correct = 0\n",
        "    total = 0\n",
        "    with torch.no_grad():\n",
        "        for batch_features, batch_labels in test_loader:\n",
        "            batch_features, batch_labels = batch_features.to(device), batch_labels.to(device)\n",
        "            outputs = model(batch_features)\n",
        "            _, predicted = torch.max(outputs.data, 1)\n",
        "            total += batch_labels.size(0)\n",
        "            correct += (predicted == batch_labels).sum().item()\n",
        "\n",
        "    accuracy = correct / total\n",
        "    return accuracy"
      ],
      "execution_count": 18,
      "outputs": []
    },
    {
      "cell_type": "code",
      "metadata": {
        "colab": {
          "base_uri": "https://localhost:8080/"
        },
        "id": "0ec3f3e9",
        "outputId": "279a8323-063e-46b7-aaae-798663449a6c"
      },
      "source": [
        "study = optuna.create_study(direction='maximize')\n",
        "study.optimize(objective, n_trials=10)  # You can adjust the number of trials\n",
        "\n",
        "print(\"Best trial:\")\n",
        "trial = study.best_trial\n",
        "\n",
        "print(f\"  Value: {trial.value}\")\n",
        "print(\"  Params: \")\n",
        "for key, value in trial.params.items():\n",
        "    print(f\"    {key}: {value}\")"
      ],
      "execution_count": 19,
      "outputs": [
        {
          "output_type": "stream",
          "name": "stderr",
          "text": [
            "[I 2025-09-08 14:06:55,419] A new study created in memory with name: no-name-5868fc13-acc8-4e63-9ede-4f5227407eda\n",
            "[I 2025-09-08 14:07:28,057] Trial 0 finished with value: 0.9052 and parameters: {'lr': 0.00043851658786128256, 'optimizer': 'RMSprop', 'dropout_rate': 0.12747752813905713, 'weight_decay': 0.003539532510421795, 'n_conv_layers': 3, 'conv_0_out_channels': 112, 'conv_0_kernel_size': 5, 'conv_1_out_channels': 16, 'conv_1_kernel_size': 5, 'conv_2_out_channels': 64, 'conv_2_kernel_size': 5, 'n_hidden_layers': 4, 'hidden_0_out_features': 128, 'hidden_1_out_features': 256, 'hidden_2_out_features': 160, 'hidden_3_out_features': 128}. Best is trial 0 with value: 0.9052.\n",
            "[I 2025-09-08 14:07:58,893] Trial 1 finished with value: 0.9043 and parameters: {'lr': 0.0027852029748218926, 'optimizer': 'Adam', 'dropout_rate': 0.15807383464376243, 'weight_decay': 0.00016760910568389877, 'n_conv_layers': 4, 'conv_0_out_channels': 16, 'conv_0_kernel_size': 5, 'conv_1_out_channels': 16, 'conv_1_kernel_size': 5, 'conv_2_out_channels': 64, 'conv_2_kernel_size': 3, 'conv_3_out_channels': 112, 'conv_3_kernel_size': 3, 'n_hidden_layers': 4, 'hidden_0_out_features': 224, 'hidden_1_out_features': 32, 'hidden_2_out_features': 64, 'hidden_3_out_features': 224}. Best is trial 0 with value: 0.9052.\n",
            "[I 2025-09-08 14:08:25,065] Trial 2 finished with value: 0.9261 and parameters: {'lr': 0.0002711582397741778, 'optimizer': 'Adam', 'dropout_rate': 0.39971235741208533, 'weight_decay': 0.001470469575728444, 'n_conv_layers': 2, 'conv_0_out_channels': 32, 'conv_0_kernel_size': 3, 'conv_1_out_channels': 96, 'conv_1_kernel_size': 5, 'n_hidden_layers': 4, 'hidden_0_out_features': 224, 'hidden_1_out_features': 160, 'hidden_2_out_features': 64, 'hidden_3_out_features': 96}. Best is trial 2 with value: 0.9261.\n",
            "[I 2025-09-08 14:08:47,193] Trial 3 finished with value: 0.9168 and parameters: {'lr': 0.01040385433621542, 'optimizer': 'SGD', 'dropout_rate': 0.42345667627821626, 'weight_decay': 6.968132966288991e-05, 'n_conv_layers': 1, 'conv_0_out_channels': 128, 'conv_0_kernel_size': 5, 'n_hidden_layers': 1, 'hidden_0_out_features': 192}. Best is trial 2 with value: 0.9261.\n",
            "[I 2025-09-08 14:09:10,566] Trial 4 finished with value: 0.7706 and parameters: {'lr': 1.1165650645383663e-05, 'optimizer': 'SGD', 'dropout_rate': 0.1608500686818141, 'weight_decay': 5.711969378468634e-05, 'n_conv_layers': 1, 'conv_0_out_channels': 112, 'conv_0_kernel_size': 3, 'n_hidden_layers': 4, 'hidden_0_out_features': 256, 'hidden_1_out_features': 96, 'hidden_2_out_features': 96, 'hidden_3_out_features': 192}. Best is trial 2 with value: 0.9261.\n",
            "[I 2025-09-08 14:09:34,110] Trial 5 finished with value: 0.872 and parameters: {'lr': 0.001902992113446259, 'optimizer': 'RMSprop', 'dropout_rate': 0.16475055138589237, 'weight_decay': 0.0021000809730660616, 'n_conv_layers': 2, 'conv_0_out_channels': 80, 'conv_0_kernel_size': 5, 'conv_1_out_channels': 32, 'conv_1_kernel_size': 5, 'n_hidden_layers': 1, 'hidden_0_out_features': 160}. Best is trial 2 with value: 0.9261.\n",
            "[I 2025-09-08 14:10:29,967] Trial 6 finished with value: 0.8947 and parameters: {'lr': 2.2298404094312613e-05, 'optimizer': 'RMSprop', 'dropout_rate': 0.4385688789505463, 'weight_decay': 0.0027438517968042054, 'n_conv_layers': 3, 'conv_0_out_channels': 128, 'conv_0_kernel_size': 3, 'conv_1_out_channels': 112, 'conv_1_kernel_size': 5, 'conv_2_out_channels': 16, 'conv_2_kernel_size': 3, 'n_hidden_layers': 1, 'hidden_0_out_features': 96}. Best is trial 2 with value: 0.9261.\n",
            "[I 2025-09-08 14:10:52,278] Trial 7 finished with value: 0.6491 and parameters: {'lr': 1.7246489102633337e-05, 'optimizer': 'SGD', 'dropout_rate': 0.4705150986052311, 'weight_decay': 1.1603937682483467e-05, 'n_conv_layers': 4, 'conv_0_out_channels': 16, 'conv_0_kernel_size': 5, 'conv_1_out_channels': 64, 'conv_1_kernel_size': 3, 'conv_2_out_channels': 16, 'conv_2_kernel_size': 5, 'conv_3_out_channels': 80, 'conv_3_kernel_size': 5, 'n_hidden_layers': 1, 'hidden_0_out_features': 32}. Best is trial 2 with value: 0.9261.\n",
            "[I 2025-09-08 14:11:43,533] Trial 8 finished with value: 0.8824 and parameters: {'lr': 7.854637229202752e-05, 'optimizer': 'RMSprop', 'dropout_rate': 0.4495190921525658, 'weight_decay': 0.000626989077880606, 'n_conv_layers': 4, 'conv_0_out_channels': 128, 'conv_0_kernel_size': 3, 'conv_1_out_channels': 112, 'conv_1_kernel_size': 3, 'conv_2_out_channels': 128, 'conv_2_kernel_size': 5, 'conv_3_out_channels': 128, 'conv_3_kernel_size': 5, 'n_hidden_layers': 5, 'hidden_0_out_features': 32, 'hidden_1_out_features': 32, 'hidden_2_out_features': 160, 'hidden_3_out_features': 256, 'hidden_4_out_features': 32}. Best is trial 2 with value: 0.9261.\n",
            "[I 2025-09-08 14:12:09,279] Trial 9 finished with value: 0.8899 and parameters: {'lr': 0.0006651589305299732, 'optimizer': 'Adam', 'dropout_rate': 0.48701569134331557, 'weight_decay': 0.00028349945672519287, 'n_conv_layers': 1, 'conv_0_out_channels': 128, 'conv_0_kernel_size': 3, 'n_hidden_layers': 5, 'hidden_0_out_features': 32, 'hidden_1_out_features': 256, 'hidden_2_out_features': 224, 'hidden_3_out_features': 32, 'hidden_4_out_features': 64}. Best is trial 2 with value: 0.9261.\n"
          ]
        },
        {
          "output_type": "stream",
          "name": "stdout",
          "text": [
            "Best trial:\n",
            "  Value: 0.9261\n",
            "  Params: \n",
            "    lr: 0.0002711582397741778\n",
            "    optimizer: Adam\n",
            "    dropout_rate: 0.39971235741208533\n",
            "    weight_decay: 0.001470469575728444\n",
            "    n_conv_layers: 2\n",
            "    conv_0_out_channels: 32\n",
            "    conv_0_kernel_size: 3\n",
            "    conv_1_out_channels: 96\n",
            "    conv_1_kernel_size: 5\n",
            "    n_hidden_layers: 4\n",
            "    hidden_0_out_features: 224\n",
            "    hidden_1_out_features: 160\n",
            "    hidden_2_out_features: 64\n",
            "    hidden_3_out_features: 96\n"
          ]
        }
      ]
    },
    {
      "cell_type": "code",
      "source": [
        "class CNN (nn.Module):\n",
        "  def __init__ (self, input_features):\n",
        "    super().__init__()\n",
        "\n",
        "    self.features= nn.Sequential (\n",
        "      nn.Conv2d (input_features, 32, kernel_size=3, padding='same'),\n",
        "      nn.ReLU(),\n",
        "      nn.BatchNorm2d (32),\n",
        "      nn.MaxPool2d (kernel_size=2, stride=2),\n",
        "\n",
        "\n",
        "      #another conv layer\n",
        "      nn.Conv2d (32, 96, kernel_size=5, padding='same'),\n",
        "      nn.ReLU(),\n",
        "      nn.BatchNorm2d (96),\n",
        "      nn.MaxPool2d (kernel_size=2, stride=2),\n",
        "\n",
        "      #flatten\n",
        "      nn.Flatten ()\n",
        "    )\n",
        "    self.classifier= nn.Sequential (\n",
        "      nn.Linear ( 96*7*7, 224),\n",
        "      nn.ReLU(),\n",
        "      nn.BatchNorm1d (224),\n",
        "      nn.Dropout(0.399),\n",
        "\n",
        "      nn.Linear (224,160),\n",
        "      nn.ReLU(),\n",
        "      nn.BatchNorm1d (160),\n",
        "      nn.Dropout(0.399),\n",
        "\n",
        "      nn.Linear (160,64),\n",
        "      nn.ReLU(),\n",
        "      nn.BatchNorm1d (64),\n",
        "      nn.Dropout(0.399),\n",
        "\n",
        "      nn.Linear (64,96),\n",
        "      nn.ReLU(),\n",
        "      nn.BatchNorm1d (96),\n",
        "      nn.Dropout(0.399),\n",
        "\n",
        "      nn.Linear (96,10)\n",
        "    )\n",
        "  def forward (self,x):\n",
        "    x= self.features(x)\n",
        "    x= self.classifier(x)\n",
        "    return x"
      ],
      "metadata": {
        "id": "GpG9LpYllAdH"
      },
      "execution_count": 31,
      "outputs": []
    },
    {
      "cell_type": "code",
      "source": [
        "model = CNN(1).to(device)\n",
        "criterion = nn.CrossEntropyLoss()\n",
        "optimizer = optim.Adam(model.parameters(), lr=0.000271,weight_decay= 0.00147 )"
      ],
      "metadata": {
        "id": "WhNh-tQft1kS"
      },
      "execution_count": 32,
      "outputs": []
    },
    {
      "cell_type": "code",
      "source": [
        "for epoch in range (epochs):\n",
        "  total_epoch_loss= 0\n",
        "  for batch_features, batch_labels in train_loader:\n",
        "    #moving to gpu\n",
        "    batch_features, batch_labels= batch_features.to(device), batch_labels.to(device)\n",
        "\n",
        "    #forward pass\n",
        "    output= model(batch_features)\n",
        "    #loss\n",
        "    loss= criterion(output, batch_labels)\n",
        "    #reverse pass\n",
        "    optimizer.zero_grad()\n",
        "    loss.backward()\n",
        "    #upgrading gradients\n",
        "    optimizer.step()\n",
        "\n",
        "    total_epoch_loss = total_epoch_loss + loss.item()\n",
        "  avg_loss = total_epoch_loss/len(train_loader)\n",
        "  print(f'Epoch:{epoch} Loss:{avg_loss}')\n",
        "\n",
        "model.eval()\n",
        "correct = 0\n",
        "total = 0\n",
        "with torch.no_grad():\n",
        "  for batch_features, batch_labels in test_loader:\n",
        "    batch_features, batch_labels = batch_features.to(device), batch_labels.to(device)\n",
        "    outputs = model(batch_features)\n",
        "    _, predicted = torch.max(outputs.data, 1)\n",
        "    total += batch_labels.size(0)\n",
        "    correct += (predicted == batch_labels).sum().item()\n",
        "\n",
        "  accuracy = correct / total\n",
        "print ('Accuracy', accuracy)\n"
      ],
      "metadata": {
        "colab": {
          "base_uri": "https://localhost:8080/"
        },
        "id": "tvujcLhzt1qe",
        "outputId": "18eb1b66-a922-4e3b-fa0e-6bca149ad423"
      },
      "execution_count": 35,
      "outputs": [
        {
          "output_type": "stream",
          "name": "stdout",
          "text": [
            "Epoch:0 Loss:0.18155216102772304\n",
            "Epoch:1 Loss:0.154059145655205\n",
            "Epoch:2 Loss:0.1389530837061261\n",
            "Epoch:3 Loss:0.1257666142732858\n",
            "Epoch:4 Loss:0.11209986618420145\n",
            "Accuracy 0.9236\n"
          ]
        }
      ]
    },
    {
      "cell_type": "code",
      "source": [],
      "metadata": {
        "id": "-ZqfT5dBt14z"
      },
      "execution_count": null,
      "outputs": []
    },
    {
      "cell_type": "code",
      "metadata": {
        "colab": {
          "base_uri": "https://localhost:8080/"
        },
        "id": "71b437d5",
        "outputId": "055178f1-939a-4500-afd7-a1ac4d7e5b47"
      },
      "source": [
        "# Get the best hyperparameters\n",
        "best_params = study.best_trial.params\n",
        "\n",
        "# Extract hyperparameters\n",
        "lr = best_params['lr']\n",
        "optimizer_name = best_params['optimizer']\n",
        "dropout_rate = best_params['dropout_rate'] # Using the single dropout rate\n",
        "weight_decay = best_params['weight_decay']\n",
        "n_conv_layers = best_params['n_conv_layers']\n",
        "n_hidden_layers = best_params['n_hidden_layers']\n",
        "\n",
        "# Build the convolutional layers using the best parameters\n",
        "conv_layers = []\n",
        "in_channels = 1\n",
        "for i in range(n_conv_layers):\n",
        "    out_channels = best_params[f'conv_{i}_out_channels']\n",
        "    kernel_size = best_params[f'conv_{i}_kernel_size']\n",
        "    conv_layers.append(nn.Conv2d(in_channels, out_channels, kernel_size=kernel_size, padding='same'))\n",
        "    conv_layers.append(nn.ReLU())\n",
        "    conv_layers.append(nn.BatchNorm2d(out_channels))\n",
        "    conv_layers.append(nn.MaxPool2d(kernel_size=2, stride=2))\n",
        "    in_channels = out_channels\n",
        "\n",
        "# Calculate the size of the flattened layer\n",
        "# We need to pass a dummy tensor through the conv layers to determine the size\n",
        "dummy_input = torch.randn(1, 1, 28, 28)\n",
        "dummy_conv_output = nn.Sequential(*conv_layers)(dummy_input)\n",
        "flattened_size = dummy_conv_output.view(dummy_conv_output.size(0), -1).size(1)\n",
        "\n",
        "\n",
        "# Build the hidden layers using the best parameters\n",
        "hidden_layers = []\n",
        "current_input_dim = flattened_size\n",
        "for i in range(n_hidden_layers):\n",
        "    out_features = best_params[f'hidden_{i}_out_features']\n",
        "    hidden_layers.append(nn.Linear(current_input_dim, out_features))\n",
        "    hidden_layers.append(nn.ReLU())\n",
        "    hidden_layers.append(nn.BatchNorm1d(out_features))\n",
        "    hidden_layers.append(nn.Dropout(dropout_rate)) # Apply the single best dropout rate\n",
        "    current_input_dim = out_features\n",
        "\n",
        "# Output layer\n",
        "hidden_layers.append(nn.Linear(current_input_dim, 10))\n",
        "\n",
        "\n",
        "# Define the final model with the best hyperparameters\n",
        "class FinalCNN (nn.Module):\n",
        "    def __init__ (self, conv_layers, hidden_layers):\n",
        "        super().__init__()\n",
        "        self.features = nn.Sequential(*conv_layers)\n",
        "        self.classifier = nn.Sequential(*hidden_layers)\n",
        "\n",
        "    def forward (self,x):\n",
        "        x= self.features(x)\n",
        "        x= x.view(x.size(0), -1) # Flatten the output from convolutional layers\n",
        "        x= self.classifier(x)\n",
        "        return x\n",
        "\n",
        "model = FinalCNN(conv_layers, hidden_layers).to(device)\n",
        "\n",
        "# Define optimizer with best hyperparameters\n",
        "if optimizer_name == 'Adam':\n",
        "    optimizer = optim.Adam(model.parameters(), lr=lr, weight_decay=weight_decay)\n",
        "elif optimizer_name == 'RMSprop':\n",
        "    optimizer = optim.RMSprop(model.parameters(), lr=lr, weight_decay=weight_decay)\n",
        "else:\n",
        "    optimizer = optim.SGD(model.parameters(), lr=lr, weight_decay=weight_decay)\n",
        "\n",
        "criterion = nn.CrossEntropyLoss()\n",
        "\n",
        "# Training loop\n",
        "epochs = 5 # Using the same number of epochs as in the objective function\n",
        "model.train()\n",
        "for epoch in range(epochs):\n",
        "    total_epoch_loss= 0\n",
        "    for batch_features, batch_labels in train_loader:\n",
        "        batch_features, batch_labels = batch_features.to(device), batch_labels.to(device)\n",
        "        optimizer.zero_grad()\n",
        "        outputs = model(batch_features)\n",
        "        loss = criterion(outputs, batch_labels)\n",
        "        loss.backward()\n",
        "        optimizer.step()\n",
        "        total_epoch_loss = total_epoch_loss + loss.item()\n",
        "    avg_loss = total_epoch_loss/len(train_loader)\n",
        "    print(f'Epoch:{epoch} Loss:{avg_loss}')\n",
        "\n",
        "# Evaluation\n",
        "model.eval()\n",
        "correct = 0\n",
        "total = 0\n",
        "with torch.no_grad():\n",
        "    for batch_features, batch_labels in test_loader:\n",
        "        batch_features, batch_labels = batch_features.to(device), batch_labels.to(device)\n",
        "        outputs = model(batch_features)\n",
        "        _, predicted = torch.max(outputs.data, 1)\n",
        "        total += batch_labels.size(0)\n",
        "        correct += (predicted == batch_labels).sum().item()\n",
        "\n",
        "accuracy = correct / total\n",
        "print ('Accuracy',accuracy)"
      ],
      "execution_count": 37,
      "outputs": [
        {
          "output_type": "stream",
          "name": "stdout",
          "text": [
            "Epoch:0 Loss:0.7509433475892935\n",
            "Epoch:1 Loss:0.40201148940428993\n",
            "Epoch:2 Loss:0.32924525724100406\n",
            "Epoch:3 Loss:0.29498320248430726\n",
            "Epoch:4 Loss:0.26521046775013907\n",
            "Accuracy 0.916\n"
          ]
        }
      ]
    },
    {
      "cell_type": "code",
      "source": [],
      "metadata": {
        "id": "3ABRYYJVwOdn"
      },
      "execution_count": 38,
      "outputs": []
    },
    {
      "cell_type": "code",
      "source": [],
      "metadata": {
        "id": "lpiz97prwnMs"
      },
      "execution_count": null,
      "outputs": []
    }
  ],
  "metadata": {
    "accelerator": "GPU",
    "colab": {
      "gpuType": "T4",
      "provenance": []
    },
    "kernelspec": {
      "display_name": "Python 3",
      "name": "python3"
    },
    "language_info": {
      "name": "python"
    }
  },
  "nbformat": 4,
  "nbformat_minor": 0
}